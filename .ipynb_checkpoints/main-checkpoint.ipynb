{
 "cells": [
  {
   "cell_type": "code",
   "execution_count": 53,
   "metadata": {},
   "outputs": [],
   "source": [
    "from tqdm import tqdm   # you may have to download it\n",
    "import hashing_lib as hl\n",
    "import time\n",
    "import numpy as np\n",
    "import re\n",
    "import string\n",
    "import random\n",
    "import pandas as pd\n",
    "from sklearn.cluster import KMeans\n",
    "from sklearn.decomposition import PCA\n",
    "import matplotlib.pyplot as plt\n",
    "\n",
    "# In hashing_lib.py we imported BitVector, you may have to download it"
   ]
  },
  {
   "cell_type": "markdown",
   "metadata": {},
   "source": [
    "# 1. Hashing task!"
   ]
  },
  {
   "cell_type": "markdown",
   "metadata": {},
   "source": [
    "We found the optimal number of hash functions $ k $, for a given size of the bloom filter $ m $ and number of elements $ n $, approximating $ k = \\frac{m}{n}ln2 $.\n",
    "\n",
    "We set $ p $ as the desired false positive probability and found that $ k = -\\log_2{p} $ is a good approximation.\n",
    "\n",
    "So setting $ p = 0.01 $ we have $ k = 6.64 \\simeq 6 $\n",
    "\n",
    "We found that in $ passwords1.txt $ there are $ 100\\,000\\,000 $ passwords so $ n = 100\\,000\\,000$.\n",
    "\n",
    "Now we can set the size $ m $ of the $ BloomFilter $, $ m = -\\frac{n\\ln{p}}{\\ln^2{2}} \\simeq 958\\,505\\,837 $"
   ]
  },
  {
   "cell_type": "code",
   "execution_count": 2,
   "metadata": {},
   "outputs": [],
   "source": [
    "p = 0.01\n",
    "n = 100_000_000\n",
    "# we choose 958_505_837\n",
    "m = 958_505_837\n",
    "# number of hashing functions: k = 6\n",
    "k = 6"
   ]
  },
  {
   "cell_type": "markdown",
   "metadata": {},
   "source": [
    "We choose to create a Class $ BloomFilter $ that take in input $ m $ and $ k $ precalculated. The class create a bit vector of size $ m $ and keep records of the number of passwords added in the filter and the number of probable duplicates found.\n",
    "\n",
    "In $ Less Hashing, Same Performance: Building a Better Bloom Filter $ we found a theorem that say we don't have to create 6 hashing functions (that are computational expensive), but instead we can use 2 independent hashing functions, $ h_1 $ and $ h_2 $ and iterate them using the following formula: $$ g_i(x) = h_1(x) + ih_2(x) + f(i) \\mod{m} $$\n",
    "with $ i $ in $ range(k) $."
   ]
  },
  {
   "cell_type": "markdown",
   "metadata": {},
   "source": [
    "In our case we defined 2 simple hashing functions $ hash\\_1(string) $ and $ hash\\_2(string) $ and choose $ f(i) = i^2 $."
   ]
  },
  {
   "cell_type": "code",
   "execution_count": 3,
   "metadata": {},
   "outputs": [],
   "source": [
    "bloom_filter = hl.BloomFilter(m, k)"
   ]
  },
  {
   "cell_type": "code",
   "execution_count": 4,
   "metadata": {},
   "outputs": [
    {
     "name": "stderr",
     "output_type": "stream",
     "text": [
      "100%|██████████| 100000000/100000000 [55:14<00:00, 30167.78it/s] \n",
      "100%|██████████| 39000000/39000000 [13:30<00:00, 48141.68it/s]"
     ]
    },
    {
     "name": "stdout",
     "output_type": "stream",
     "text": [
      "Execution time:  68.74856994549434 minutes\n"
     ]
    },
    {
     "name": "stderr",
     "output_type": "stream",
     "text": [
      "\n"
     ]
    }
   ],
   "source": [
    "# 100,000,000 passwords in file1\n",
    "s = time.time()\n",
    "\n",
    "with tqdm(total = n) as pbar:\n",
    "    with open(\"../data/passwords1.txt\") as fin:\n",
    "        for line in fin:\n",
    "            line = line.strip()\n",
    "            bloom_filter.add_to_bloom(line)\n",
    "            pbar.update(1)\n",
    "            \n",
    "# 39,000,000 passwords in file1\n",
    "with open(\"../data/passwords2.txt\") as fin2:\n",
    "    with tqdm(total = 39_000_000) as pbar:\n",
    "        for line in fin2:\n",
    "            line = line.strip()\n",
    "            bloom_filter.check_in_bloom(line)\n",
    "            \n",
    "            pbar.update(1)\n",
    "\n",
    "print('Execution time: ', (time.time() - s)/60, 'minutes')"
   ]
  },
  {
   "cell_type": "code",
   "execution_count": 5,
   "metadata": {},
   "outputs": [
    {
     "name": "stdout",
     "output_type": "stream",
     "text": [
      "Number of elements:  100000000\n",
      "Number of probably duplicates:  14253875\n",
      "Size of the filter:  958505837\n",
      "Number of hashing functions:  6\n",
      "False positives probability : 1.0 %\n"
     ]
    }
   ],
   "source": [
    "# print some stats of the bloom filter\n",
    "bloom_filter.print_stats()\n",
    "print('False positives probability :', p*100, '%')"
   ]
  },
  {
   "cell_type": "markdown",
   "metadata": {},
   "source": [
    "## Bonus"
   ]
  },
  {
   "cell_type": "markdown",
   "metadata": {},
   "source": [
    "We create a set of passwords to see the number of actual duplicates.\n",
    "\n",
    "We use the set cause it doesn't allow duplicates, so knowing the number of total passwords we can calculate the number of duplicates"
   ]
  },
  {
   "cell_type": "markdown",
   "metadata": {},
   "source": [
    "##### This task is really heavy, if you want to see only the actual duplicates just run the last line\n",
    "We found out that the number of actual duplicates is $ 14\\,000\\,000 $, so we can use this and substract to the probably duplicates of the filter to find the real false positives."
   ]
  },
  {
   "cell_type": "code",
   "execution_count": 10,
   "metadata": {},
   "outputs": [
    {
     "name": "stderr",
     "output_type": "stream",
     "text": [
      "100%|██████████| 100000000/100000000 [02:18<00:00, 722177.76it/s]\n",
      "100%|██████████| 39000000/39000000 [00:59<00:00, 657872.79it/s]\n"
     ]
    }
   ],
   "source": [
    "all_passwords = set([])\n",
    "with tqdm(total = n) as pbar:\n",
    "    with open(\"passwords1.txt\") as fin:\n",
    "        for line in fin:\n",
    "            # add pass to set\n",
    "            all_passwords.update([line.strip()])\n",
    "            pbar.update(1)\n",
    "            \n",
    "with open(\"passwords2.txt\") as fin2:\n",
    "    with tqdm(total = 39_000_000) as pbar2:\n",
    "        for line in fin2:\n",
    "            # add pass to set\n",
    "            all_passwords.update([line.strip()])\n",
    "            pbar2.update(1)\n"
   ]
  },
  {
   "cell_type": "code",
   "execution_count": 12,
   "metadata": {},
   "outputs": [],
   "source": [
    "# Calculate actuall duplicates\n",
    "actual_duplicates = 139_000_000 - len(all_passwords)"
   ]
  },
  {
   "cell_type": "code",
   "execution_count": 13,
   "metadata": {},
   "outputs": [
    {
     "name": "stdout",
     "output_type": "stream",
     "text": [
      "14000000\n"
     ]
    }
   ],
   "source": [
    "print(actual_duplicates )"
   ]
  },
  {
   "cell_type": "markdown",
   "metadata": {},
   "source": [
    "So the number of the false positives is:"
   ]
  },
  {
   "cell_type": "code",
   "execution_count": 6,
   "metadata": {},
   "outputs": [
    {
     "data": {
      "text/plain": [
       "253875"
      ]
     },
     "execution_count": 6,
     "metadata": {},
     "output_type": "execute_result"
    }
   ],
   "source": [
    "bloom_filter.n_duplicates - 14_000_000"
   ]
  },
  {
   "cell_type": "markdown",
   "metadata": {},
   "source": [
    "### Conclusions\n",
    "So out of $ 25\\,000\\,000 $ passwords only $ 253\\,875 $ results as false positive.\n",
    "\n",
    "We can state that our bloom filter with  $ 1\\% $ false positive probability worked."
   ]
  },
  {
   "cell_type": "markdown",
   "metadata": {},
   "source": [
    "# 2. Alphabetical Sort"
   ]
  },
  {
   "cell_type": "markdown",
   "metadata": {},
   "source": [
    "## Part 1\n",
    "\n",
    "### Build your own implementation of Counting Sort"
   ]
  },
  {
   "cell_type": "code",
   "execution_count": 1,
   "metadata": {},
   "outputs": [],
   "source": [
    "def CountingSort_num(A):\n",
    "    size = max(A)  \n",
    "    aux = np.zeros(size+1, dtype=int) # we define an auxiliary array \n",
    "    for i in A:\n",
    "        aux[i] += 1    # with this for we can see the occurrency of each element to the respective index\n",
    "    sort = []   # defining the output\n",
    "    for j in range(size+1):\n",
    "        sort.extend([j]*aux[j])\n",
    "    return sort"
   ]
  },
  {
   "cell_type": "markdown",
   "metadata": {},
   "source": [
    "##### Testing (Comparing sorted() function with our CountingSort function)"
   ]
  },
  {
   "cell_type": "code",
   "execution_count": 4,
   "metadata": {},
   "outputs": [
    {
     "name": "stdout",
     "output_type": "stream",
     "text": [
      "[1, 2, 2, 3, 4, 5, 6, 8, 9]\n",
      "[1, 2, 2, 3, 4, 5, 6, 8, 9]\n"
     ]
    }
   ],
   "source": [
    "test = [3, 1, 4, 2, 6, 8, 9, 2, 5]\n",
    "\n",
    "print(sorted(test))\n",
    "print(CountingSort_num(test))"
   ]
  },
  {
   "cell_type": "code",
   "execution_count": 5,
   "metadata": {},
   "outputs": [
    {
     "data": {
      "text/plain": [
       "True"
      ]
     },
     "execution_count": 5,
     "metadata": {},
     "output_type": "execute_result"
    }
   ],
   "source": [
    "# just to be sure\n",
    "\n",
    "sorted(test)==CountingSort_num(test)"
   ]
  },
  {
   "cell_type": "markdown",
   "metadata": {},
   "source": [
    "#### Time Complexity\n",
    "\n",
    "Theoretically time complexity for: CountingSort_num():\n",
    "\n",
    "There are 2 \"for\" cycle that are scanning through n (size of the maximum number in the list), so the complexity is:\n",
    "\n",
    "O(2n) → O(n)\n"
   ]
  },
  {
   "cell_type": "markdown",
   "metadata": {},
   "source": [
    "## Part 2\n",
    "\n",
    "### Build an algorithm, based on your implementation of Counting Sort, that receives in input a list with all the letters of the alphabet (not in alphabetical order), and returns the list ordered according to alphabetical order. Discuss time complexity (theoretically and empirically)."
   ]
  },
  {
   "cell_type": "markdown",
   "metadata": {},
   "source": [
    "#### First of all we create a list containing all the letters of the alphabet not in alphabetical order."
   ]
  },
  {
   "cell_type": "code",
   "execution_count": 7,
   "metadata": {},
   "outputs": [],
   "source": [
    "alphabet_l = string.ascii_lowercase\n",
    "alphabet_u = string.ascii_uppercase"
   ]
  },
  {
   "cell_type": "code",
   "execution_count": 8,
   "metadata": {},
   "outputs": [],
   "source": [
    "# we use \"sample\" function to get elements without replacement\n",
    "string_letters = random.sample(alphabet_l + alphabet_u, k=52)"
   ]
  },
  {
   "cell_type": "markdown",
   "metadata": {},
   "source": [
    "#### Now, given this list, we implement our CountingSort function to get the ordered list of letters."
   ]
  },
  {
   "cell_type": "code",
   "execution_count": 22,
   "metadata": {},
   "outputs": [],
   "source": [
    "def CountingSort_let(letters):\n",
    "    \n",
    "    alphabet_l = string.ascii_lowercase\n",
    "    alphabet_u = string.ascii_uppercase\n",
    "    \n",
    "    # first thing: for each letter we get the Unicode values\n",
    "\n",
    "    unicode_l = []\n",
    "    unicode_u = []\n",
    "\n",
    "    for i in alphabet_l:\n",
    "        unicode_l.append(ord(i))\n",
    "    for j in alphabet_u:\n",
    "        unicode_u.append(ord(j))\n",
    "\n",
    "    # now we create a map to get in order the Unicode values associated to upper and lower case (example: AaBbCc...).\n",
    "    # in this way we are initializing the alphabetical order.\n",
    "\n",
    "    unicode_map = []\n",
    "\n",
    "    for p in zip(unicode_u, unicode_l):\n",
    "        for code in p:\n",
    "            unicode_map.append(code)\n",
    "\n",
    "    # creating a dictionary to have an index for each unicode\n",
    "\n",
    "    dict_alpha = {code:i for i, code in enumerate(unicode_map)}\n",
    "\n",
    "    # creating the reverse of the dictionary\n",
    "\n",
    "    dict_alpha_rev = {ind:code for code, ind in dict_alpha.items()}\n",
    "\n",
    "    # we define an auxiliary array\n",
    "\n",
    "    aux = np.zeros(len(dict_alpha), dtype=int)\n",
    "\n",
    "    # taking the input, we have to convert it into Unicode values\n",
    "\n",
    "    num = []\n",
    "    for i in letters:\n",
    "        num.append(ord(i))\n",
    "\n",
    "    # Now, as we made for the CountingSort function for the numbers,\n",
    "    # we check the occurrences of each character (from the input)\n",
    "    # and we set values of aux\n",
    "\n",
    "    for i in num:\n",
    "        aux[dict_alpha[i]] += 1\n",
    "\n",
    "    sorted_letters = []\n",
    "\n",
    "    for i in range(len(aux)):\n",
    "        sorted_letters.extend([chr(dict_alpha_rev[i])]*aux[i])\n",
    "\n",
    "    return sorted_letters"
   ]
  },
  {
   "cell_type": "markdown",
   "metadata": {},
   "source": [
    "#### Now we can finally test our CountingSort with the dictionary containing all the letters of the alphabet not in order."
   ]
  },
  {
   "cell_type": "code",
   "execution_count": 17,
   "metadata": {},
   "outputs": [
    {
     "name": "stdout",
     "output_type": "stream",
     "text": [
      "['j', 'Z', 'f', 'a', 'X', 'o', 'g', 'r', 'i', 'R', 'h', 'U', 'n', 'l', 'S', 'W', 'G', 'q', 't', 'k', 'P', 'F', 'b', 's', 'D', 'N', 'Q', 'y', 'O', 'E', 'Y', 'A', 'e', 'V', 'c', 'p', 'M', 'T', 'x', 'z', 'm', 'C', 'B', 'H', 'u', 'w', 'I', 'L', 'J', 'd', 'v', 'K']\n"
     ]
    }
   ],
   "source": [
    "print(string_letters)"
   ]
  },
  {
   "cell_type": "code",
   "execution_count": 23,
   "metadata": {},
   "outputs": [
    {
     "name": "stdout",
     "output_type": "stream",
     "text": [
      "['A', 'a', 'B', 'b', 'C', 'c', 'D', 'd', 'E', 'e', 'F', 'f', 'G', 'g', 'H', 'h', 'I', 'i', 'J', 'j', 'K', 'k', 'L', 'l', 'M', 'm', 'N', 'n', 'O', 'o', 'P', 'p', 'Q', 'q', 'R', 'r', 'S', 's', 'T', 't', 'U', 'u', 'V', 'v', 'W', 'w', 'X', 'x', 'Y', 'y', 'Z', 'z']\n"
     ]
    }
   ],
   "source": [
    "# Applying the function\n",
    "print(CountingSort_let(string_letters))"
   ]
  },
  {
   "cell_type": "markdown",
   "metadata": {},
   "source": [
    "#### Time complexity"
   ]
  },
  {
   "cell_type": "markdown",
   "metadata": {},
   "source": [
    "We can not take into consideration the time complexity of creating the lists containing the ASCII value of upper and lower cases cause the for loops have a constant number of iteration, in our case 26 for the lower case and 26 for the upper case.\n",
    "\n",
    "We can say the same for the alphabet dictionary.\n",
    "\n",
    "The given N = len(letters):\n",
    "* The first loop take O(N)\n",
    "* The second also take O(N)\n",
    "* The last loop take O(52)\n",
    "\n",
    "So the time complexity of this functions is: $ O(2N + 52) \\rightarrow O(N) $"
   ]
  },
  {
   "cell_type": "markdown",
   "metadata": {},
   "source": [
    "## Part 3\n",
    "\n",
    "### Build an algorithm, based on your implementation of Counting Sort, that receives in input a list of length m, that contains words with maximum length equal to n, and returns the list ordered according to alphabetical order. Discuss time complexity (theoretically and empirically)."
   ]
  },
  {
   "cell_type": "code",
   "execution_count": 19,
   "metadata": {},
   "outputs": [],
   "source": [
    "def CountingSort_wor(words):\n",
    "    output = list()\n",
    "    m = len(words)\n",
    "    \n",
    "    for i in range(m): \n",
    "        if i == 0: # start comparing words appending first word\n",
    "            output.append(words[i])\n",
    "        else:\n",
    "            # checking and sorting words \n",
    "            for k in range(len(output)):\n",
    "                j = 0\n",
    "                # looking for the first 2 different letters\n",
    "                while j < len(words[i])-1 and j < len(output[k])-1 and words[i][j] == output[k][j]:\n",
    "                    j += 1\n",
    "                \n",
    "                # all strings are ordered according to their first word\n",
    "                if output[k][j] == ' ' and words[i][j] != ' ':\n",
    "                    new_out = [output[k], words[i]]\n",
    "                    if k == len(output)-1:\n",
    "                        output.append(words[i])\n",
    "                        break           \n",
    "      \n",
    "                elif output[k][j] != ' ' and words[i][j] == ' ':\n",
    "                    new_out = [words[i], output[k]]\n",
    "                    output.insert(k, words[i])\n",
    "                    break\n",
    "\n",
    "                elif j != len(output[k])-1 and j == len(words[i])-1 and words[i][j] == output[k][j]:\n",
    "                    new_out = [words[i], output[k]]\n",
    "                    output.insert(k, words[i])\n",
    "                    break                \n",
    "                \n",
    "                # priority to short words\n",
    "                elif j == len(output[k])-1 and j != len(words[i])-1 and words[i][j] == output[k][j]:\n",
    "                    new_out = [output[k], words[i]] \n",
    "                    if k == len(output)-1:\n",
    "                        output.append(words[i])\n",
    "                        break           \n",
    "\n",
    "                # sorting the single letters\n",
    "                else:\n",
    "                    x = [words[i][j], output[k][j]]\n",
    "                    new_out = CountingSort_let(x) # recalling function for sorting letters\n",
    "                    \n",
    "                    if new_out == x:\n",
    "                        output.insert(k, words[i])\n",
    "                        break\n",
    "                    else:\n",
    "                        if k == len(output)-1:\n",
    "                            output.append(words[i])\n",
    "                            break                \n",
    "\n",
    "    return output"
   ]
  },
  {
   "cell_type": "markdown",
   "metadata": {},
   "source": [
    "#### Test our function"
   ]
  },
  {
   "cell_type": "code",
   "execution_count": 20,
   "metadata": {},
   "outputs": [],
   "source": [
    "s = 'Given a set of words, a common natural task is the one of sorting them in alphabetical order. It is something that you have for sure already done once in your life, using your own algorithm without maybe knowing it.'\n",
    "test = s.split()"
   ]
  },
  {
   "cell_type": "code",
   "execution_count": 27,
   "metadata": {},
   "outputs": [
    {
     "name": "stdout",
     "output_type": "stream",
     "text": [
      "['a', 'a', 'algorithm', 'alphabetical', 'already', 'common', 'done', 'for', 'Given', 'have', 'It', 'in', 'in', 'is', 'is', 'it.', 'knowing', 'life,', 'maybe', 'natural', 'of', 'of', 'once', 'one', 'order.', 'own', 'set', 'something', 'sorting', 'sure', 'task', 'that', 'the', 'them', 'using', 'without', 'words,', 'you', 'your', 'your']\n"
     ]
    }
   ],
   "source": [
    "print(CountingSort_wor(test))"
   ]
  },
  {
   "cell_type": "markdown",
   "metadata": {},
   "source": [
    "#### Time complexity\n",
    "\n",
    "We take a word from our initial list and append it a output list in the right place. So we have to compare every word in input list with every word in output list, so we will have a double for loop.\n",
    "\n",
    "Given $M$ = len(words), the number of words to sort and $N$ = len(words[i]) the max length of words:\n",
    "* The first loop take O(M)\n",
    "* The second loop, iside the first, take O(M)\n",
    "* The while loop, inside the second, take O(N)\n",
    "\n",
    "For the asymptotic analysis we can not take into consideration the time complexity of the if/else statement.\n",
    "\n",
    "So we have a 3 loops inside each other: $ O(M*M*(N + 1 + ....) \\rightarrow O(M^2*N) $\n",
    "\n",
    "This is thw worst case, in fact if $ M >>> N :  O(M^2*N) \\rightarrow O(M^2) $"
   ]
  },
  {
   "cell_type": "markdown",
   "metadata": {},
   "source": [
    "# 3. Find similar wines!"
   ]
  },
  {
   "cell_type": "code",
   "execution_count": 37,
   "metadata": {},
   "outputs": [],
   "source": [
    "column = [\"Class\", \"Alchol\", \"Malic Acid\", \"Ash\", \"Alcalinity of ash\", \"Magnesium\",\"Total Phenols\", \"Flavonoids\", \n",
    "          \"Nonflavonoids phenols\", \"Proanthcyanis\",\"color intensity\", \"Hue\", \"OD280/OD315 of diluited wines\", \n",
    "          \"Proline\"]\n",
    "wines_df = pd.DataFrame(columns=column)"
   ]
  },
  {
   "cell_type": "code",
   "execution_count": 38,
   "metadata": {},
   "outputs": [],
   "source": [
    "with open(\"../wine.data\") as f:\n",
    "    line =f.readline()\n",
    "    while line != \"\":\n",
    "        l= line.split(\",\")\n",
    "        for i in range(len(l)):\n",
    "            l[i] = float(l[i].strip())\n",
    "        wines_df = wines_df.append(pd.DataFrame([l], columns = column), ignore_index = True)\n",
    "        line =f.readline()"
   ]
  },
  {
   "cell_type": "code",
   "execution_count": 39,
   "metadata": {},
   "outputs": [
    {
     "data": {
      "text/html": [
       "<div>\n",
       "<style scoped>\n",
       "    .dataframe tbody tr th:only-of-type {\n",
       "        vertical-align: middle;\n",
       "    }\n",
       "\n",
       "    .dataframe tbody tr th {\n",
       "        vertical-align: top;\n",
       "    }\n",
       "\n",
       "    .dataframe thead th {\n",
       "        text-align: right;\n",
       "    }\n",
       "</style>\n",
       "<table border=\"1\" class=\"dataframe\">\n",
       "  <thead>\n",
       "    <tr style=\"text-align: right;\">\n",
       "      <th></th>\n",
       "      <th>Class</th>\n",
       "      <th>Alchol</th>\n",
       "      <th>Malic Acid</th>\n",
       "      <th>Ash</th>\n",
       "      <th>Alcalinity of ash</th>\n",
       "      <th>Magnesium</th>\n",
       "      <th>Total Phenols</th>\n",
       "      <th>Flavonoids</th>\n",
       "      <th>Nonflavonoids phenols</th>\n",
       "      <th>Proanthcyanis</th>\n",
       "      <th>color intensity</th>\n",
       "      <th>Hue</th>\n",
       "      <th>OD280/OD315 of diluited wines</th>\n",
       "      <th>Proline</th>\n",
       "    </tr>\n",
       "  </thead>\n",
       "  <tbody>\n",
       "    <tr>\n",
       "      <td>0</td>\n",
       "      <td>1.0</td>\n",
       "      <td>14.23</td>\n",
       "      <td>1.71</td>\n",
       "      <td>2.43</td>\n",
       "      <td>15.6</td>\n",
       "      <td>127.0</td>\n",
       "      <td>2.80</td>\n",
       "      <td>3.06</td>\n",
       "      <td>0.28</td>\n",
       "      <td>2.29</td>\n",
       "      <td>5.64</td>\n",
       "      <td>1.04</td>\n",
       "      <td>3.92</td>\n",
       "      <td>1065.0</td>\n",
       "    </tr>\n",
       "    <tr>\n",
       "      <td>1</td>\n",
       "      <td>1.0</td>\n",
       "      <td>13.20</td>\n",
       "      <td>1.78</td>\n",
       "      <td>2.14</td>\n",
       "      <td>11.2</td>\n",
       "      <td>100.0</td>\n",
       "      <td>2.65</td>\n",
       "      <td>2.76</td>\n",
       "      <td>0.26</td>\n",
       "      <td>1.28</td>\n",
       "      <td>4.38</td>\n",
       "      <td>1.05</td>\n",
       "      <td>3.40</td>\n",
       "      <td>1050.0</td>\n",
       "    </tr>\n",
       "    <tr>\n",
       "      <td>2</td>\n",
       "      <td>1.0</td>\n",
       "      <td>13.16</td>\n",
       "      <td>2.36</td>\n",
       "      <td>2.67</td>\n",
       "      <td>18.6</td>\n",
       "      <td>101.0</td>\n",
       "      <td>2.80</td>\n",
       "      <td>3.24</td>\n",
       "      <td>0.30</td>\n",
       "      <td>2.81</td>\n",
       "      <td>5.68</td>\n",
       "      <td>1.03</td>\n",
       "      <td>3.17</td>\n",
       "      <td>1185.0</td>\n",
       "    </tr>\n",
       "    <tr>\n",
       "      <td>3</td>\n",
       "      <td>1.0</td>\n",
       "      <td>14.37</td>\n",
       "      <td>1.95</td>\n",
       "      <td>2.50</td>\n",
       "      <td>16.8</td>\n",
       "      <td>113.0</td>\n",
       "      <td>3.85</td>\n",
       "      <td>3.49</td>\n",
       "      <td>0.24</td>\n",
       "      <td>2.18</td>\n",
       "      <td>7.80</td>\n",
       "      <td>0.86</td>\n",
       "      <td>3.45</td>\n",
       "      <td>1480.0</td>\n",
       "    </tr>\n",
       "    <tr>\n",
       "      <td>4</td>\n",
       "      <td>1.0</td>\n",
       "      <td>13.24</td>\n",
       "      <td>2.59</td>\n",
       "      <td>2.87</td>\n",
       "      <td>21.0</td>\n",
       "      <td>118.0</td>\n",
       "      <td>2.80</td>\n",
       "      <td>2.69</td>\n",
       "      <td>0.39</td>\n",
       "      <td>1.82</td>\n",
       "      <td>4.32</td>\n",
       "      <td>1.04</td>\n",
       "      <td>2.93</td>\n",
       "      <td>735.0</td>\n",
       "    </tr>\n",
       "  </tbody>\n",
       "</table>\n",
       "</div>"
      ],
      "text/plain": [
       "   Class  Alchol  Malic Acid   Ash  Alcalinity of ash  Magnesium  \\\n",
       "0    1.0   14.23        1.71  2.43               15.6      127.0   \n",
       "1    1.0   13.20        1.78  2.14               11.2      100.0   \n",
       "2    1.0   13.16        2.36  2.67               18.6      101.0   \n",
       "3    1.0   14.37        1.95  2.50               16.8      113.0   \n",
       "4    1.0   13.24        2.59  2.87               21.0      118.0   \n",
       "\n",
       "   Total Phenols  Flavonoids  Nonflavonoids phenols  Proanthcyanis  \\\n",
       "0           2.80        3.06                   0.28           2.29   \n",
       "1           2.65        2.76                   0.26           1.28   \n",
       "2           2.80        3.24                   0.30           2.81   \n",
       "3           3.85        3.49                   0.24           2.18   \n",
       "4           2.80        2.69                   0.39           1.82   \n",
       "\n",
       "   color intensity   Hue  OD280/OD315 of diluited wines  Proline  \n",
       "0             5.64  1.04                           3.92   1065.0  \n",
       "1             4.38  1.05                           3.40   1050.0  \n",
       "2             5.68  1.03                           3.17   1185.0  \n",
       "3             7.80  0.86                           3.45   1480.0  \n",
       "4             4.32  1.04                           2.93    735.0  "
      ]
     },
     "execution_count": 39,
     "metadata": {},
     "output_type": "execute_result"
    }
   ],
   "source": [
    "# print a sample of the dataset\n",
    "wines_df.head(5)"
   ]
  },
  {
   "cell_type": "code",
   "execution_count": 42,
   "metadata": {},
   "outputs": [],
   "source": [
    "X = wines_df.iloc[:,1:14].values"
   ]
  },
  {
   "cell_type": "code",
   "execution_count": 43,
   "metadata": {},
   "outputs": [
    {
     "data": {
      "text/plain": [
       "array([[1.423e+01, 1.710e+00, 2.430e+00, 1.560e+01, 1.270e+02, 2.800e+00,\n",
       "        3.060e+00, 2.800e-01, 2.290e+00, 5.640e+00, 1.040e+00, 3.920e+00,\n",
       "        1.065e+03],\n",
       "       [1.320e+01, 1.780e+00, 2.140e+00, 1.120e+01, 1.000e+02, 2.650e+00,\n",
       "        2.760e+00, 2.600e-01, 1.280e+00, 4.380e+00, 1.050e+00, 3.400e+00,\n",
       "        1.050e+03],\n",
       "       [1.316e+01, 2.360e+00, 2.670e+00, 1.860e+01, 1.010e+02, 2.800e+00,\n",
       "        3.240e+00, 3.000e-01, 2.810e+00, 5.680e+00, 1.030e+00, 3.170e+00,\n",
       "        1.185e+03],\n",
       "       [1.437e+01, 1.950e+00, 2.500e+00, 1.680e+01, 1.130e+02, 3.850e+00,\n",
       "        3.490e+00, 2.400e-01, 2.180e+00, 7.800e+00, 8.600e-01, 3.450e+00,\n",
       "        1.480e+03],\n",
       "       [1.324e+01, 2.590e+00, 2.870e+00, 2.100e+01, 1.180e+02, 2.800e+00,\n",
       "        2.690e+00, 3.900e-01, 1.820e+00, 4.320e+00, 1.040e+00, 2.930e+00,\n",
       "        7.350e+02]])"
      ]
     },
     "execution_count": 43,
     "metadata": {},
     "output_type": "execute_result"
    }
   ],
   "source": [
    "X[:5]"
   ]
  },
  {
   "cell_type": "code",
   "execution_count": 44,
   "metadata": {},
   "outputs": [],
   "source": [
    "m=X.shape[0] #number of training examples\n",
    "n=X.shape[1] #number of features\n",
    "n_iter=100"
   ]
  },
  {
   "cell_type": "code",
   "execution_count": 45,
   "metadata": {},
   "outputs": [],
   "source": [
    "K=5 # number of clusters"
   ]
  },
  {
   "cell_type": "code",
   "execution_count": 141,
   "metadata": {},
   "outputs": [],
   "source": [
    "Centroids=np.array([]).reshape(n,0)"
   ]
  },
  {
   "cell_type": "code",
   "execution_count": 142,
   "metadata": {},
   "outputs": [],
   "source": [
    "for i in range(K):\n",
    "    rand=random.randint(0,m-1)\n",
    "    Centroids=np.c_[Centroids,X[rand]]"
   ]
  },
  {
   "cell_type": "code",
   "execution_count": 49,
   "metadata": {},
   "outputs": [],
   "source": [
    "Output={}"
   ]
  },
  {
   "cell_type": "code",
   "execution_count": 50,
   "metadata": {},
   "outputs": [],
   "source": [
    "for i in range(n_iter):\n",
    "     # For each training example compute the euclidian distance from the centroid and assign the cluster based \n",
    "    #on the minimal distance\n",
    "    EucDis=np.array([]).reshape(m,0)\n",
    "    for k in range(K):\n",
    "        tempDist=np.sum((X-Centroids[:,k])**2,axis=1)\n",
    "        EucDis=np.c_[EucDis,tempDist]\n",
    "    C=np.argmin(EucDis,axis=1)+1\n",
    "     # regroup the data points based on the cluster index C and store in the Output dictionary \n",
    "    Y={}\n",
    "    for k in range(K):\n",
    "        Y[k+1]=np.array([]).reshape(13,0)\n",
    "    for i in range(m):\n",
    "        Y[C[i]]=np.c_[Y[C[i]],X[i]]\n",
    "     \n",
    "    for k in range(K):\n",
    "        Y[k+1]=Y[k+1].T\n",
    "    \n",
    "    #compute the mean of separated clusters and assign it as new centroids\n",
    "    for k in range(K): \n",
    "        Centroids[:,k]=np.mean(Y[k+1],axis=0)\n",
    "    Output=Y"
   ]
  },
  {
   "cell_type": "code",
   "execution_count": 134,
   "metadata": {},
   "outputs": [],
   "source": [
    "cols = [0, 1, 2, 3, 4, 5, 6, 7, 8, 9, 10, 11, 12, 'cluster']\n",
    "clusters_df = pd.DataFrame(columns = cols)"
   ]
  },
  {
   "cell_type": "code",
   "execution_count": 135,
   "metadata": {},
   "outputs": [],
   "source": [
    "# append clusters to the dataframe\n",
    "for key in Output:\n",
    "    c = pd.DataFrame(Output[key])\n",
    "    c['cluster'] = key\n",
    "    clusters_df = clusters_df.append(c, ignore_index = True)"
   ]
  },
  {
   "cell_type": "code",
   "execution_count": 136,
   "metadata": {},
   "outputs": [
    {
     "data": {
      "text/html": [
       "<div>\n",
       "<style scoped>\n",
       "    .dataframe tbody tr th:only-of-type {\n",
       "        vertical-align: middle;\n",
       "    }\n",
       "\n",
       "    .dataframe tbody tr th {\n",
       "        vertical-align: top;\n",
       "    }\n",
       "\n",
       "    .dataframe thead th {\n",
       "        text-align: right;\n",
       "    }\n",
       "</style>\n",
       "<table border=\"1\" class=\"dataframe\">\n",
       "  <thead>\n",
       "    <tr style=\"text-align: right;\">\n",
       "      <th></th>\n",
       "      <th>0</th>\n",
       "      <th>1</th>\n",
       "      <th>2</th>\n",
       "      <th>3</th>\n",
       "      <th>4</th>\n",
       "      <th>5</th>\n",
       "      <th>6</th>\n",
       "      <th>7</th>\n",
       "      <th>8</th>\n",
       "      <th>9</th>\n",
       "      <th>10</th>\n",
       "      <th>11</th>\n",
       "      <th>12</th>\n",
       "      <th>cluster</th>\n",
       "    </tr>\n",
       "  </thead>\n",
       "  <tbody>\n",
       "    <tr>\n",
       "      <td>0</td>\n",
       "      <td>12.37</td>\n",
       "      <td>0.94</td>\n",
       "      <td>1.36</td>\n",
       "      <td>10.6</td>\n",
       "      <td>88.0</td>\n",
       "      <td>1.98</td>\n",
       "      <td>0.57</td>\n",
       "      <td>0.28</td>\n",
       "      <td>0.42</td>\n",
       "      <td>1.95</td>\n",
       "      <td>1.05</td>\n",
       "      <td>1.82</td>\n",
       "      <td>520.0</td>\n",
       "      <td>1</td>\n",
       "    </tr>\n",
       "    <tr>\n",
       "      <td>1</td>\n",
       "      <td>12.64</td>\n",
       "      <td>1.36</td>\n",
       "      <td>2.02</td>\n",
       "      <td>16.8</td>\n",
       "      <td>100.0</td>\n",
       "      <td>2.02</td>\n",
       "      <td>1.41</td>\n",
       "      <td>0.53</td>\n",
       "      <td>0.62</td>\n",
       "      <td>5.75</td>\n",
       "      <td>0.98</td>\n",
       "      <td>1.59</td>\n",
       "      <td>450.0</td>\n",
       "      <td>1</td>\n",
       "    </tr>\n",
       "    <tr>\n",
       "      <td>2</td>\n",
       "      <td>12.37</td>\n",
       "      <td>1.13</td>\n",
       "      <td>2.16</td>\n",
       "      <td>19.0</td>\n",
       "      <td>87.0</td>\n",
       "      <td>3.50</td>\n",
       "      <td>3.10</td>\n",
       "      <td>0.19</td>\n",
       "      <td>1.87</td>\n",
       "      <td>4.45</td>\n",
       "      <td>1.22</td>\n",
       "      <td>2.87</td>\n",
       "      <td>420.0</td>\n",
       "      <td>1</td>\n",
       "    </tr>\n",
       "    <tr>\n",
       "      <td>3</td>\n",
       "      <td>12.17</td>\n",
       "      <td>1.45</td>\n",
       "      <td>2.53</td>\n",
       "      <td>19.0</td>\n",
       "      <td>104.0</td>\n",
       "      <td>1.89</td>\n",
       "      <td>1.75</td>\n",
       "      <td>0.45</td>\n",
       "      <td>1.03</td>\n",
       "      <td>2.95</td>\n",
       "      <td>1.45</td>\n",
       "      <td>2.23</td>\n",
       "      <td>355.0</td>\n",
       "      <td>1</td>\n",
       "    </tr>\n",
       "    <tr>\n",
       "      <td>4</td>\n",
       "      <td>13.11</td>\n",
       "      <td>1.01</td>\n",
       "      <td>1.70</td>\n",
       "      <td>15.0</td>\n",
       "      <td>78.0</td>\n",
       "      <td>2.98</td>\n",
       "      <td>3.18</td>\n",
       "      <td>0.26</td>\n",
       "      <td>2.28</td>\n",
       "      <td>5.30</td>\n",
       "      <td>1.12</td>\n",
       "      <td>3.18</td>\n",
       "      <td>502.0</td>\n",
       "      <td>1</td>\n",
       "    </tr>\n",
       "  </tbody>\n",
       "</table>\n",
       "</div>"
      ],
      "text/plain": [
       "       0     1     2     3      4     5     6     7     8     9    10    11  \\\n",
       "0  12.37  0.94  1.36  10.6   88.0  1.98  0.57  0.28  0.42  1.95  1.05  1.82   \n",
       "1  12.64  1.36  2.02  16.8  100.0  2.02  1.41  0.53  0.62  5.75  0.98  1.59   \n",
       "2  12.37  1.13  2.16  19.0   87.0  3.50  3.10  0.19  1.87  4.45  1.22  2.87   \n",
       "3  12.17  1.45  2.53  19.0  104.0  1.89  1.75  0.45  1.03  2.95  1.45  2.23   \n",
       "4  13.11  1.01  1.70  15.0   78.0  2.98  3.18  0.26  2.28  5.30  1.12  3.18   \n",
       "\n",
       "      12 cluster  \n",
       "0  520.0       1  \n",
       "1  450.0       1  \n",
       "2  420.0       1  \n",
       "3  355.0       1  \n",
       "4  502.0       1  "
      ]
     },
     "execution_count": 136,
     "metadata": {},
     "output_type": "execute_result"
    }
   ],
   "source": [
    "clusters_df.head(5)"
   ]
  },
  {
   "cell_type": "code",
   "execution_count": 137,
   "metadata": {},
   "outputs": [],
   "source": [
    "reduced_data2 = PCA(n_components=2).fit_transform(clusters_df)\n",
    "results2 = pd.DataFrame(reduced_data,columns=['pca1','pca2'])"
   ]
  },
  {
   "cell_type": "code",
   "execution_count": 138,
   "metadata": {},
   "outputs": [],
   "source": [
    "# Add PCA to the fata frame\n",
    "clusters_df[['pca1','pca2']] = pd.DataFrame(reduced_data2)"
   ]
  },
  {
   "cell_type": "code",
   "execution_count": 139,
   "metadata": {},
   "outputs": [
    {
     "data": {
      "text/html": [
       "<div>\n",
       "<style scoped>\n",
       "    .dataframe tbody tr th:only-of-type {\n",
       "        vertical-align: middle;\n",
       "    }\n",
       "\n",
       "    .dataframe tbody tr th {\n",
       "        vertical-align: top;\n",
       "    }\n",
       "\n",
       "    .dataframe thead th {\n",
       "        text-align: right;\n",
       "    }\n",
       "</style>\n",
       "<table border=\"1\" class=\"dataframe\">\n",
       "  <thead>\n",
       "    <tr style=\"text-align: right;\">\n",
       "      <th></th>\n",
       "      <th>0</th>\n",
       "      <th>1</th>\n",
       "      <th>2</th>\n",
       "      <th>3</th>\n",
       "      <th>4</th>\n",
       "      <th>5</th>\n",
       "      <th>6</th>\n",
       "      <th>7</th>\n",
       "      <th>8</th>\n",
       "      <th>9</th>\n",
       "      <th>10</th>\n",
       "      <th>11</th>\n",
       "      <th>12</th>\n",
       "      <th>cluster</th>\n",
       "      <th>pca1</th>\n",
       "      <th>pca2</th>\n",
       "    </tr>\n",
       "  </thead>\n",
       "  <tbody>\n",
       "    <tr>\n",
       "      <td>0</td>\n",
       "      <td>12.37</td>\n",
       "      <td>0.94</td>\n",
       "      <td>1.36</td>\n",
       "      <td>10.6</td>\n",
       "      <td>88.0</td>\n",
       "      <td>1.98</td>\n",
       "      <td>0.57</td>\n",
       "      <td>0.28</td>\n",
       "      <td>0.42</td>\n",
       "      <td>1.95</td>\n",
       "      <td>1.05</td>\n",
       "      <td>1.82</td>\n",
       "      <td>520.0</td>\n",
       "      <td>1</td>\n",
       "      <td>-227.035906</td>\n",
       "      <td>-8.007371</td>\n",
       "    </tr>\n",
       "    <tr>\n",
       "      <td>1</td>\n",
       "      <td>12.64</td>\n",
       "      <td>1.36</td>\n",
       "      <td>2.02</td>\n",
       "      <td>16.8</td>\n",
       "      <td>100.0</td>\n",
       "      <td>2.02</td>\n",
       "      <td>1.41</td>\n",
       "      <td>0.53</td>\n",
       "      <td>0.62</td>\n",
       "      <td>5.75</td>\n",
       "      <td>0.98</td>\n",
       "      <td>1.59</td>\n",
       "      <td>450.0</td>\n",
       "      <td>1</td>\n",
       "      <td>-296.827509</td>\n",
       "      <td>5.456832</td>\n",
       "    </tr>\n",
       "    <tr>\n",
       "      <td>2</td>\n",
       "      <td>12.37</td>\n",
       "      <td>1.13</td>\n",
       "      <td>2.16</td>\n",
       "      <td>19.0</td>\n",
       "      <td>87.0</td>\n",
       "      <td>3.50</td>\n",
       "      <td>3.10</td>\n",
       "      <td>0.19</td>\n",
       "      <td>1.87</td>\n",
       "      <td>4.45</td>\n",
       "      <td>1.22</td>\n",
       "      <td>2.87</td>\n",
       "      <td>420.0</td>\n",
       "      <td>1</td>\n",
       "      <td>-327.062136</td>\n",
       "      <td>-6.958720</td>\n",
       "    </tr>\n",
       "    <tr>\n",
       "      <td>3</td>\n",
       "      <td>12.17</td>\n",
       "      <td>1.45</td>\n",
       "      <td>2.53</td>\n",
       "      <td>19.0</td>\n",
       "      <td>104.0</td>\n",
       "      <td>1.89</td>\n",
       "      <td>1.75</td>\n",
       "      <td>0.45</td>\n",
       "      <td>1.03</td>\n",
       "      <td>2.95</td>\n",
       "      <td>1.45</td>\n",
       "      <td>2.23</td>\n",
       "      <td>355.0</td>\n",
       "      <td>1</td>\n",
       "      <td>-391.755365</td>\n",
       "      <td>11.161527</td>\n",
       "    </tr>\n",
       "    <tr>\n",
       "      <td>4</td>\n",
       "      <td>13.11</td>\n",
       "      <td>1.01</td>\n",
       "      <td>1.70</td>\n",
       "      <td>15.0</td>\n",
       "      <td>78.0</td>\n",
       "      <td>2.98</td>\n",
       "      <td>3.18</td>\n",
       "      <td>0.26</td>\n",
       "      <td>2.28</td>\n",
       "      <td>5.30</td>\n",
       "      <td>1.12</td>\n",
       "      <td>3.18</td>\n",
       "      <td>502.0</td>\n",
       "      <td>1</td>\n",
       "      <td>-245.215702</td>\n",
       "      <td>-17.505291</td>\n",
       "    </tr>\n",
       "  </tbody>\n",
       "</table>\n",
       "</div>"
      ],
      "text/plain": [
       "       0     1     2     3      4     5     6     7     8     9    10    11  \\\n",
       "0  12.37  0.94  1.36  10.6   88.0  1.98  0.57  0.28  0.42  1.95  1.05  1.82   \n",
       "1  12.64  1.36  2.02  16.8  100.0  2.02  1.41  0.53  0.62  5.75  0.98  1.59   \n",
       "2  12.37  1.13  2.16  19.0   87.0  3.50  3.10  0.19  1.87  4.45  1.22  2.87   \n",
       "3  12.17  1.45  2.53  19.0  104.0  1.89  1.75  0.45  1.03  2.95  1.45  2.23   \n",
       "4  13.11  1.01  1.70  15.0   78.0  2.98  3.18  0.26  2.28  5.30  1.12  3.18   \n",
       "\n",
       "      12 cluster        pca1       pca2  \n",
       "0  520.0       1 -227.035906  -8.007371  \n",
       "1  450.0       1 -296.827509   5.456832  \n",
       "2  420.0       1 -327.062136  -6.958720  \n",
       "3  355.0       1 -391.755365  11.161527  \n",
       "4  502.0       1 -245.215702 -17.505291  "
      ]
     },
     "execution_count": 139,
     "metadata": {},
     "output_type": "execute_result"
    }
   ],
   "source": [
    "clusters_df.head(5)"
   ]
  },
  {
   "cell_type": "code",
   "execution_count": 159,
   "metadata": {},
   "outputs": [],
   "source": [
    "# PCA of the centroinds\n",
    "centr_df = pd.DataFrame(Centroids).T\n",
    "cent = PCA(n_components=2).fit_transform(centr_df)\n",
    "res_cent = pd.DataFrame(reduced_data,columns=['pca1','pca2'])\n",
    "# Add PCA to df\n",
    "centr_df[['pca1','pca2']] = pd.DataFrame(res_cent)"
   ]
  },
  {
   "cell_type": "code",
   "execution_count": 160,
   "metadata": {},
   "outputs": [
    {
     "data": {
      "text/html": [
       "<div>\n",
       "<style scoped>\n",
       "    .dataframe tbody tr th:only-of-type {\n",
       "        vertical-align: middle;\n",
       "    }\n",
       "\n",
       "    .dataframe tbody tr th {\n",
       "        vertical-align: top;\n",
       "    }\n",
       "\n",
       "    .dataframe thead th {\n",
       "        text-align: right;\n",
       "    }\n",
       "</style>\n",
       "<table border=\"1\" class=\"dataframe\">\n",
       "  <thead>\n",
       "    <tr style=\"text-align: right;\">\n",
       "      <th></th>\n",
       "      <th>0</th>\n",
       "      <th>1</th>\n",
       "      <th>2</th>\n",
       "      <th>3</th>\n",
       "      <th>4</th>\n",
       "      <th>5</th>\n",
       "      <th>6</th>\n",
       "      <th>7</th>\n",
       "      <th>8</th>\n",
       "      <th>9</th>\n",
       "      <th>10</th>\n",
       "      <th>11</th>\n",
       "      <th>12</th>\n",
       "      <th>pca1</th>\n",
       "      <th>pca2</th>\n",
       "    </tr>\n",
       "  </thead>\n",
       "  <tbody>\n",
       "    <tr>\n",
       "      <td>0</td>\n",
       "      <td>11.46</td>\n",
       "      <td>3.74</td>\n",
       "      <td>1.82</td>\n",
       "      <td>19.5</td>\n",
       "      <td>107.0</td>\n",
       "      <td>3.18</td>\n",
       "      <td>2.58</td>\n",
       "      <td>0.24</td>\n",
       "      <td>3.58</td>\n",
       "      <td>2.90</td>\n",
       "      <td>0.75</td>\n",
       "      <td>2.81</td>\n",
       "      <td>562.0</td>\n",
       "      <td>318.562979</td>\n",
       "      <td>21.492131</td>\n",
       "    </tr>\n",
       "    <tr>\n",
       "      <td>1</td>\n",
       "      <td>13.63</td>\n",
       "      <td>1.81</td>\n",
       "      <td>2.70</td>\n",
       "      <td>17.2</td>\n",
       "      <td>112.0</td>\n",
       "      <td>2.85</td>\n",
       "      <td>2.91</td>\n",
       "      <td>0.30</td>\n",
       "      <td>1.46</td>\n",
       "      <td>7.30</td>\n",
       "      <td>1.28</td>\n",
       "      <td>2.88</td>\n",
       "      <td>1310.0</td>\n",
       "      <td>303.097420</td>\n",
       "      <td>-5.364718</td>\n",
       "    </tr>\n",
       "    <tr>\n",
       "      <td>2</td>\n",
       "      <td>12.70</td>\n",
       "      <td>3.87</td>\n",
       "      <td>2.40</td>\n",
       "      <td>23.0</td>\n",
       "      <td>101.0</td>\n",
       "      <td>2.83</td>\n",
       "      <td>2.55</td>\n",
       "      <td>0.43</td>\n",
       "      <td>1.95</td>\n",
       "      <td>2.57</td>\n",
       "      <td>1.19</td>\n",
       "      <td>3.13</td>\n",
       "      <td>463.0</td>\n",
       "      <td>438.061133</td>\n",
       "      <td>-6.537309</td>\n",
       "    </tr>\n",
       "    <tr>\n",
       "      <td>3</td>\n",
       "      <td>13.24</td>\n",
       "      <td>2.59</td>\n",
       "      <td>2.87</td>\n",
       "      <td>21.0</td>\n",
       "      <td>118.0</td>\n",
       "      <td>2.80</td>\n",
       "      <td>2.69</td>\n",
       "      <td>0.39</td>\n",
       "      <td>1.82</td>\n",
       "      <td>4.32</td>\n",
       "      <td>1.04</td>\n",
       "      <td>2.93</td>\n",
       "      <td>735.0</td>\n",
       "      <td>733.240139</td>\n",
       "      <td>0.192729</td>\n",
       "    </tr>\n",
       "    <tr>\n",
       "      <td>4</td>\n",
       "      <td>12.58</td>\n",
       "      <td>1.29</td>\n",
       "      <td>2.10</td>\n",
       "      <td>20.0</td>\n",
       "      <td>103.0</td>\n",
       "      <td>1.48</td>\n",
       "      <td>0.58</td>\n",
       "      <td>0.53</td>\n",
       "      <td>1.40</td>\n",
       "      <td>7.60</td>\n",
       "      <td>0.58</td>\n",
       "      <td>1.55</td>\n",
       "      <td>640.0</td>\n",
       "      <td>-11.571428</td>\n",
       "      <td>18.489995</td>\n",
       "    </tr>\n",
       "  </tbody>\n",
       "</table>\n",
       "</div>"
      ],
      "text/plain": [
       "       0     1     2     3      4     5     6     7     8     9    10    11  \\\n",
       "0  11.46  3.74  1.82  19.5  107.0  3.18  2.58  0.24  3.58  2.90  0.75  2.81   \n",
       "1  13.63  1.81  2.70  17.2  112.0  2.85  2.91  0.30  1.46  7.30  1.28  2.88   \n",
       "2  12.70  3.87  2.40  23.0  101.0  2.83  2.55  0.43  1.95  2.57  1.19  3.13   \n",
       "3  13.24  2.59  2.87  21.0  118.0  2.80  2.69  0.39  1.82  4.32  1.04  2.93   \n",
       "4  12.58  1.29  2.10  20.0  103.0  1.48  0.58  0.53  1.40  7.60  0.58  1.55   \n",
       "\n",
       "       12        pca1       pca2  \n",
       "0   562.0  318.562979  21.492131  \n",
       "1  1310.0  303.097420  -5.364718  \n",
       "2   463.0  438.061133  -6.537309  \n",
       "3   735.0  733.240139   0.192729  \n",
       "4   640.0  -11.571428  18.489995  "
      ]
     },
     "execution_count": 160,
     "metadata": {},
     "output_type": "execute_result"
    }
   ],
   "source": [
    "# Centroids\n",
    "centr_df"
   ]
  },
  {
   "cell_type": "code",
   "execution_count": 176,
   "metadata": {},
   "outputs": [
    {
     "data": {
      "image/png": "[encoded data removed]",
      "text/plain": [
       "<Figure size 1080x720 with 1 Axes>"
      ]
     },
     "metadata": {
      "needs_background": "light"
     },
     "output_type": "display_data"
    }
   ],
   "source": [
    "color=['red','blue','green','cyan','magenta','black','pink','violet']\n",
    "labels=['cluster1','cluster2','cluster3','cluster4','cluster5','cluster6','cluster7','cluster8']\n",
    "\n",
    "plt.figure(figsize =(15,10))\n",
    "for k in range(K):\n",
    "    plt.scatter(clusters_df[clusters_df['cluster'] == k+1]['pca1'],\n",
    "                clusters_df[clusters_df['cluster'] == k+1]['pca2'],\n",
    "                c=color[k],label=labels[k])\n",
    "for k in range(K):\n",
    "    if k == 0:\n",
    "        plt.scatter(centr_df.iloc[k]['pca1'],centr_df.iloc[k]['pca2'],s=178,c='yellow',label='Centroids')\n",
    "    else:\n",
    "        plt.scatter(centr_df.iloc[k]['pca1'],centr_df.iloc[k]['pca2'],s=178,c='yellow')\n",
    "plt.legend()\n",
    "plt.show()"
   ]
  },
  {
   "cell_type": "markdown",
   "metadata": {},
   "source": [
    "# 4. K-means can go wrong!\n",
    "\n",
    "K-means is a good algorithm for local fine-tuning but it has serious limitation to relocate the centroids when the clusters do not overlap, so a better initialization can compensate for the weakness of k-means.\n",
    "\n",
    "Any clustering algorithm could be used as an initialization technique for k-means. However, solving the location of initial centroids is not significantly easier than the original clustering problem itself, so our initialization algorithm must have a lower (or equal) time complexity than k-means.\n",
    "\n",
    "In this exercise we try and compute the running time of clustering with k-means and then with k-means++.\n",
    "\n",
    "So to see if a better initialization works, we use k-means++ to choose the initial values (or seeds) for the k-means clustering algorithm.\n"
   ]
  },
  {
   "cell_type": "markdown",
   "metadata": {},
   "source": [
    "##### We import the dataframe used in the lab (crimes is Chicago), and test k-means and k-means++ on the same data"
   ]
  },
  {
   "cell_type": "code",
   "execution_count": 31,
   "metadata": {},
   "outputs": [],
   "source": [
    "# Import chicago crimes dataset and clean the data\n",
    "# We select only the longitude e Latitude\n",
    "df = pd.read_csv(\"../crimes.csv\", usecols = ['Longitude', 'Latitude'])\n",
    "# clean data\n",
    "df = df.dropna(0)\n",
    "df.drop( df[ df['Longitude'] < -91].index , inplace=True)"
   ]
  },
  {
   "cell_type": "code",
   "execution_count": 32,
   "metadata": {},
   "outputs": [
    {
     "data": {
      "text/html": [
       "<div>\n",
       "<style scoped>\n",
       "    .dataframe tbody tr th:only-of-type {\n",
       "        vertical-align: middle;\n",
       "    }\n",
       "\n",
       "    .dataframe tbody tr th {\n",
       "        vertical-align: top;\n",
       "    }\n",
       "\n",
       "    .dataframe thead th {\n",
       "        text-align: right;\n",
       "    }\n",
       "</style>\n",
       "<table border=\"1\" class=\"dataframe\">\n",
       "  <thead>\n",
       "    <tr style=\"text-align: right;\">\n",
       "      <th></th>\n",
       "      <th>Latitude</th>\n",
       "      <th>Longitude</th>\n",
       "    </tr>\n",
       "  </thead>\n",
       "  <tbody>\n",
       "    <tr>\n",
       "      <td>63366</td>\n",
       "      <td>41.708589</td>\n",
       "      <td>-87.612583</td>\n",
       "    </tr>\n",
       "    <tr>\n",
       "      <td>63450</td>\n",
       "      <td>41.884865</td>\n",
       "      <td>-87.755230</td>\n",
       "    </tr>\n",
       "    <tr>\n",
       "      <td>63451</td>\n",
       "      <td>41.940298</td>\n",
       "      <td>-87.732066</td>\n",
       "    </tr>\n",
       "    <tr>\n",
       "      <td>63527</td>\n",
       "      <td>41.697609</td>\n",
       "      <td>-87.613508</td>\n",
       "    </tr>\n",
       "    <tr>\n",
       "      <td>63934</td>\n",
       "      <td>41.729973</td>\n",
       "      <td>-87.653167</td>\n",
       "    </tr>\n",
       "  </tbody>\n",
       "</table>\n",
       "</div>"
      ],
      "text/plain": [
       "        Latitude  Longitude\n",
       "63366  41.708589 -87.612583\n",
       "63450  41.884865 -87.755230\n",
       "63451  41.940298 -87.732066\n",
       "63527  41.697609 -87.613508\n",
       "63934  41.729973 -87.653167"
      ]
     },
     "execution_count": 32,
     "metadata": {},
     "output_type": "execute_result"
    }
   ],
   "source": [
    "df.head(5) # Some values of the dataset"
   ]
  },
  {
   "cell_type": "markdown",
   "metadata": {},
   "source": [
    "#### Running time of k-means with random init"
   ]
  },
  {
   "cell_type": "code",
   "execution_count": 34,
   "metadata": {},
   "outputs": [
    {
     "data": {
      "image/png": "[encoded data removed]",
      "text/plain": [
       "<Figure size 1080x720 with 1 Axes>"
      ]
     },
     "metadata": {
      "needs_background": "light"
     },
     "output_type": "display_data"
    },
    {
     "name": "stdout",
     "output_type": "stream",
     "text": [
      "Rand time:  483.0710108280182\n"
     ]
    }
   ],
   "source": [
    "s = time.time()\n",
    "\n",
    "# Create our k-mean model with random init\n",
    "model = KMeans(n_clusters = 10, init = 'random')\n",
    "\n",
    "# Fit our data in the model\n",
    "model.fit(df[['Latitude', 'Longitude']])\n",
    "\n",
    "centroids = model.cluster_centers_\n",
    "\n",
    "fig = plt.figure(figsize = (15,10))\n",
    "plt.scatter(df['Latitude'],df['Longitude'])\n",
    "plt.scatter(centroids[:,0], centroids[:,1], marker='x')\n",
    "\n",
    "plt.show()\n",
    "\n",
    "\n",
    "time_rand = time.time() - s\n",
    "print('Rand time: ', time_rand)"
   ]
  },
  {
   "cell_type": "markdown",
   "metadata": {},
   "source": [
    "#### Running time of k-means++"
   ]
  },
  {
   "cell_type": "code",
   "execution_count": 35,
   "metadata": {},
   "outputs": [
    {
     "data": {
      "image/png": "[encoded data removed]",
      "text/plain": [
       "<Figure size 1080x720 with 1 Axes>"
      ]
     },
     "metadata": {
      "needs_background": "light"
     },
     "output_type": "display_data"
    },
    {
     "name": "stdout",
     "output_type": "stream",
     "text": [
      "K-means++ time:  382.7605662345886\n"
     ]
    }
   ],
   "source": [
    "t = time.time()\n",
    "\n",
    "# Create our k-mean model with k-means++ init\n",
    "model1 = KMeans(n_clusters = 10, init = 'k-means++')\n",
    "\n",
    "# Fit our data in the model\n",
    "model1.fit(df[['Latitude', 'Longitude']])\n",
    "\n",
    "centroids1 = model.cluster_centers_\n",
    "\n",
    "fig1 = plt.figure(figsize = (15,10))\n",
    "plt.scatter(df['Latitude'],df['Longitude'])\n",
    "plt.scatter(centroids1[:,0], centroids1[:,1], marker='x')\n",
    "plt.show()\n",
    "\n",
    "time_k = time.time() - t\n",
    "print('K-means++ time: ', time_k)"
   ]
  },
  {
   "cell_type": "markdown",
   "metadata": {},
   "source": [
    "So our speedup percentage is:"
   ]
  },
  {
   "cell_type": "code",
   "execution_count": 36,
   "metadata": {},
   "outputs": [
    {
     "name": "stdout",
     "output_type": "stream",
     "text": [
      "20.765155090033304  %\n"
     ]
    }
   ],
   "source": [
    "print(100*(1-time_k/time_rand), \" %\")"
   ]
  },
  {
   "cell_type": "markdown",
   "metadata": {},
   "source": [
    "So we can conclude that using a better initialization can speedup the k-mean algorithm."
   ]
  }
 ],
 "metadata": {
  "kernelspec": {
   "display_name": "Python 3",
   "language": "python",
   "name": "python3"
  },
  "language_info": {
   "codemirror_mode": {
    "name": "ipython",
    "version": 3
   },
   "file_extension": ".py",
   "mimetype": "text/x-python",
   "name": "python",
   "nbconvert_exporter": "python",
   "pygments_lexer": "ipython3",
   "version": "3.7.4"
  }
 },
 "nbformat": 4,
 "nbformat_minor": 2
}
