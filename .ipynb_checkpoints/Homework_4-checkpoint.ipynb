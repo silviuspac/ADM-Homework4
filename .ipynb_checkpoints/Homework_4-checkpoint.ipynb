{
 "cells": [
  {
   "cell_type": "code",
   "execution_count": 1,
   "metadata": {},
   "outputs": [],
   "source": [
    "import numpy as np\n",
    "from tqdm import tqdm\n",
    "import hashing_lib as hl\n",
    "import time\n",
    "from itertools import islice"
   ]
  },
  {
   "cell_type": "markdown",
   "metadata": {},
   "source": [
    "# 1. Hashing task!"
   ]
  },
  {
   "cell_type": "markdown",
   "metadata": {},
   "source": [
    "For a probability of loss p = 5% we define a bloom filter with 623522423 elements e 4 hashing functions"
   ]
  },
  {
   "cell_type": "code",
   "execution_count": 2,
   "metadata": {},
   "outputs": [],
   "source": [
    "# p = 0.02\n",
    "n = 100_000_000\n",
    "# we choose 623522423 cause is a prime number \n",
    "m = 1_437_758_756\n",
    "# number of hashing functions: k = 6\n",
    "k = 10"
   ]
  },
  {
   "cell_type": "markdown",
   "metadata": {},
   "source": [
    "# Test with n = 1000000 passwords\n",
    "n = 1000000\n",
    "m = 6235241\n",
    "k = 4"
   ]
  },
  {
   "cell_type": "code",
   "execution_count": 17,
   "metadata": {},
   "outputs": [
    {
     "name": "stdout",
     "output_type": "stream",
     "text": [
      "True\n"
     ]
    }
   ],
   "source": []
  },
  {
   "cell_type": "code",
   "execution_count": 3,
   "metadata": {},
   "outputs": [],
   "source": [
    "bloom_filter = hl.BloomFilter(m, k)"
   ]
  },
  {
   "cell_type": "code",
   "execution_count": 4,
   "metadata": {},
   "outputs": [
    {
     "name": "stderr",
     "output_type": "stream",
     "text": [
      "100%|██████████| 100000000/100000000 [1:10:13<00:00, 23733.94it/s]"
     ]
    },
    {
     "name": "stdout",
     "output_type": "stream",
     "text": [
      "70.22299724817276 minutes\n"
     ]
    },
    {
     "name": "stderr",
     "output_type": "stream",
     "text": [
      "\n"
     ]
    }
   ],
   "source": [
    "# 100000000 passwords in file1\n",
    "s = time.time()\n",
    "with tqdm(total = n) as pbar:\n",
    "    with open(\"../data/passwords1.txt\") as fin:\n",
    "        for i in range(100_000_000):\n",
    "            line = fin.readline().strip()\n",
    "            bloom_filter.addS(line)\n",
    "            pbar.update(1)\n",
    "print((time.time() - s)/60, 'minutes')"
   ]
  },
  {
   "cell_type": "code",
   "execution_count": 4,
   "metadata": {},
   "outputs": [
    {
     "name": "stdout",
     "output_type": "stream",
     "text": [
      "2.0526718656222025\n"
     ]
    }
   ],
   "source": [
    "# 100000000 passwords in file1\n",
    "s = time.time()\n",
    "with open(\"../data/passwords1.txt\") as fin:\n",
    "    for i in range(100):\n",
    "        n_lines = [x.strip() for x in islice(fin, 10000)]\n",
    "        if not n_lines:\n",
    "            break\n",
    "        bloom_filter.add_to_bloom(n_lines)\n",
    "print((time.time() - s)/60)"
   ]
  },
  {
   "cell_type": "code",
   "execution_count": 5,
   "metadata": {},
   "outputs": [
    {
     "data": {
      "text/plain": [
       "100000000"
      ]
     },
     "execution_count": 5,
     "metadata": {},
     "output_type": "execute_result"
    }
   ],
   "source": [
    "bloom_filter.n_elements"
   ]
  },
  {
   "cell_type": "code",
   "execution_count": 6,
   "metadata": {
    "scrolled": true
   },
   "outputs": [
    {
     "name": "stderr",
     "output_type": "stream",
     "text": [
      "100%|██████████| 39000000/39000000 [16:01<00:00, 40573.23it/s]\n"
     ]
    }
   ],
   "source": [
    "# 39000000 passwords in file1\n",
    "with open(\"../data/passwords2.txt\") as fin2:\n",
    "\n",
    "    with tqdm(total = 39_000_000) as pbar:\n",
    "        for _ in range(39_000_000):\n",
    "            line = fin2.readline().strip()\n",
    "            bloom_filter.checkS(line)\n",
    "            \n",
    "            pbar.update(1)"
   ]
  },
  {
   "cell_type": "code",
   "execution_count": 7,
   "metadata": {},
   "outputs": [
    {
     "data": {
      "text/plain": [
       "14983219"
      ]
     },
     "execution_count": 7,
     "metadata": {},
     "output_type": "execute_result"
    }
   ],
   "source": [
    "bloom_filter.n_duplicates"
   ]
  }
 ],
 "metadata": {
  "kernelspec": {
   "display_name": "Python 3",
   "language": "python",
   "name": "python3"
  },
  "language_info": {
   "codemirror_mode": {
    "name": "ipython",
    "version": 3
   },
   "file_extension": ".py",
   "mimetype": "text/x-python",
   "name": "python",
   "nbconvert_exporter": "python",
   "pygments_lexer": "ipython3",
   "version": "3.7.4"
  }
 },
 "nbformat": 4,
 "nbformat_minor": 2
}
