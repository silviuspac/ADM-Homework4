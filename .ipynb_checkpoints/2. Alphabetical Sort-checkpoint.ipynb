{
 "cells": [
  {
   "cell_type": "markdown",
   "metadata": {},
   "source": [
    "# 2. Alphabetical Sort"
   ]
  },
  {
   "cell_type": "markdown",
   "metadata": {},
   "source": [
    "## Part 1"
   ]
  },
  {
   "cell_type": "markdown",
   "metadata": {},
   "source": [
    "### Build your own implementation of Counting Sort"
   ]
  },
  {
   "cell_type": "code",
   "execution_count": 1,
   "metadata": {},
   "outputs": [],
   "source": [
    "import numpy as np\n",
    "import re"
   ]
  },
  {
   "cell_type": "code",
   "execution_count": 2,
   "metadata": {},
   "outputs": [],
   "source": [
    "def CountingSort_num(A):\n",
    "    size = max(A)  \n",
    "    aux = np.zeros(size+1, dtype=int) # we define an auxiliary array \n",
    "    for i in A:\n",
    "        aux[i] += 1    # with this for we can see the occurrency of each element to the respective index\n",
    "    sort = []   # defining the output\n",
    "    for j in range(size+1):\n",
    "        sort.extend([j]*aux[j])\n",
    "    return sort"
   ]
  },
  {
   "cell_type": "markdown",
   "metadata": {},
   "source": [
    "#### Testing (Comparing sorted() function with our CountingSort function)"
   ]
  },
  {
   "cell_type": "code",
   "execution_count": 3,
   "metadata": {},
   "outputs": [
    {
     "name": "stdout",
     "output_type": "stream",
     "text": [
      "[1, 2, 2, 3, 4, 5, 6, 8, 9]\n",
      "[1, 2, 2, 3, 4, 5, 6, 8, 9]\n"
     ]
    }
   ],
   "source": [
    "test = [3, 1, 4, 2, 6, 8, 9, 2, 5]\n",
    "\n",
    "print(sorted(test))\n",
    "print(CountingSort_num(test))"
   ]
  },
  {
   "cell_type": "code",
   "execution_count": 4,
   "metadata": {},
   "outputs": [
    {
     "data": {
      "text/plain": [
       "True"
      ]
     },
     "execution_count": 4,
     "metadata": {},
     "output_type": "execute_result"
    }
   ],
   "source": [
    "# just to be sure\n",
    "\n",
    "sorted(test)==CountingSort_num(test)"
   ]
  },
  {
   "cell_type": "markdown",
   "metadata": {},
   "source": [
    "### Time Complexity\n",
    "\n",
    "Theoretically time complexity for: CountingSort_num():\n",
    "\n",
    "There are 2 \"for\" cycle that are scanning through n (size of the maximum number in the list), so the complexity is:\n",
    "\n",
    "O(2n) → O(n) "
   ]
  },
  {
   "cell_type": "code",
   "execution_count": null,
   "metadata": {},
   "outputs": [],
   "source": []
  },
  {
   "cell_type": "code",
   "execution_count": null,
   "metadata": {},
   "outputs": [],
   "source": []
  },
  {
   "cell_type": "markdown",
   "metadata": {},
   "source": [
    "## Part 2"
   ]
  },
  {
   "cell_type": "markdown",
   "metadata": {},
   "source": [
    "### Build an algorithm, based on your implementation of Counting Sort, that receives in input a list with all the letters of the alphabet (not in alphabetical order), and returns the list ordered according to alphabetical order. Discuss time complexity (theoretically and empirically)."
   ]
  },
  {
   "cell_type": "code",
   "execution_count": 5,
   "metadata": {},
   "outputs": [],
   "source": [
    "import string\n",
    "import random\n",
    "import numpy as np"
   ]
  },
  {
   "cell_type": "markdown",
   "metadata": {},
   "source": [
    "#### First of all we create a list containing all the letters of the alphabet not in alphabetical order.\n"
   ]
  },
  {
   "cell_type": "code",
   "execution_count": 6,
   "metadata": {},
   "outputs": [],
   "source": [
    "alphabet_l = string.ascii_lowercase\n",
    "alphabet_u = string.ascii_uppercase"
   ]
  },
  {
   "cell_type": "code",
   "execution_count": 7,
   "metadata": {},
   "outputs": [],
   "source": [
    "string_letters = random.sample(alphabet_l + alphabet_u, k=52) # we use \"sample\" function to get elements without replacement "
   ]
  },
  {
   "cell_type": "markdown",
   "metadata": {},
   "source": [
    "#### Now, given this list, we implement our CountingSort function to get the ordered list of letters."
   ]
  },
  {
   "cell_type": "code",
   "execution_count": 8,
   "metadata": {},
   "outputs": [],
   "source": [
    "def CountingSort_let(letters):\n",
    "    \n",
    "    alphabet_l = string.ascii_lowercase\n",
    "    alphabet_u = string.ascii_uppercase\n",
    "    \n",
    "    # first thing: for each letter we get the Unicode values\n",
    "\n",
    "    unicode_l = []\n",
    "    unicode_u = []\n",
    "\n",
    "    for i in alphabet_l:\n",
    "        unicode_l.append(ord(i))\n",
    "    for j in alphabet_u:\n",
    "        unicode_u.append(ord(j))\n",
    "\n",
    "    # now we create a map to get in order the Unicode values associated to upper and lower case (example: AaBbCc...).\n",
    "    # in this way we are initializing the alphabetical order.\n",
    "\n",
    "    unicode_map = []\n",
    "\n",
    "    for p in zip(unicode_u, unicode_l):\n",
    "        for code in p:\n",
    "            unicode_map.append(code)\n",
    "\n",
    "    # creating a dictionary to have an index for each unicode\n",
    "\n",
    "    dict_alpha = {code:i for i, code in enumerate(unicode_map)}\n",
    "\n",
    "    # creating the reverse of the dictionary\n",
    "\n",
    "    dict_alpha_rev = {ind:code for code, ind in dict_alpha.items()}\n",
    "\n",
    "    # we define an auxiliary array\n",
    "\n",
    "    aux = np.zeros(len(dict_alpha), dtype=int)\n",
    "\n",
    "    # taking the input, we have to convert it into Unicode values\n",
    "\n",
    "    num = []\n",
    "    for i in letters:\n",
    "        num.append(ord(i))\n",
    "\n",
    "    # Now, as we made for the CountingSort function for the numbers,\n",
    "    # we check the occurrences of each character (from the input)\n",
    "    # and we set values of aux\n",
    "\n",
    "    for i in num:\n",
    "        aux[dict_alpha[i]] += 1\n",
    "\n",
    "    sorted_letters = []\n",
    "\n",
    "    for i in range(len(aux)):\n",
    "        sorted_letters.extend([chr(dict_alpha_rev[i])]*aux[i])\n",
    "\n",
    "    return sorted_letters\n",
    "    "
   ]
  },
  {
   "cell_type": "markdown",
   "metadata": {},
   "source": [
    "#### Testing (Comparing sorted() function with our CountingSort function)"
   ]
  },
  {
   "cell_type": "code",
   "execution_count": 9,
   "metadata": {},
   "outputs": [],
   "source": [
    "# Now we can finally test our CountingSort with the dictionary containing all the letters of the alphabet not in order."
   ]
  },
  {
   "cell_type": "code",
   "execution_count": 10,
   "metadata": {},
   "outputs": [
    {
     "name": "stdout",
     "output_type": "stream",
     "text": [
      "['S', 'I', 'g', 'p', 'i', 'E', 's', 'P', 'R', 'h', 'M', 'f', 'X', 'V', 'e', 'n', 'C', 'q', 'k', 'W', 'G', 'B', 't', 'D', 'b', 'o', 'U', 'u', 'J', 'c', 'w', 'a', 'd', 'A', 'z', 'Q', 'Y', 'l', 'H', 'j', 'r', 'O', 'Z', 'y', 'K', 'F', 'N', 'L', 'v', 'm', 'T', 'x']\n"
     ]
    }
   ],
   "source": [
    "print(string_letters)"
   ]
  },
  {
   "cell_type": "code",
   "execution_count": 11,
   "metadata": {},
   "outputs": [
    {
     "name": "stdout",
     "output_type": "stream",
     "text": [
      "['A', 'a', 'B', 'b', 'C', 'c', 'D', 'd', 'E', 'e', 'F', 'f', 'G', 'g', 'H', 'h', 'I', 'i', 'J', 'j', 'K', 'k', 'L', 'l', 'M', 'm', 'N', 'n', 'O', 'o', 'P', 'p', 'Q', 'q', 'R', 'r', 'S', 's', 'T', 't', 'U', 'u', 'V', 'v', 'W', 'w', 'X', 'x', 'Y', 'y', 'Z', 'z']\n"
     ]
    }
   ],
   "source": [
    "# Applying the function\n",
    "print(CountingSort_let(string_letters))"
   ]
  },
  {
   "cell_type": "markdown",
   "metadata": {},
   "source": [
    "### Time Complexity\n",
    "\n",
    "Theoretically time complexity for: CountingSort_let():\n",
    "\n"
   ]
  },
  {
   "cell_type": "code",
   "execution_count": null,
   "metadata": {},
   "outputs": [],
   "source": []
  },
  {
   "cell_type": "code",
   "execution_count": null,
   "metadata": {},
   "outputs": [],
   "source": []
  },
  {
   "cell_type": "markdown",
   "metadata": {},
   "source": [
    "## Part 3"
   ]
  },
  {
   "cell_type": "markdown",
   "metadata": {},
   "source": [
    "### Build an algorithm, based on your implementation of Counting Sort, that receives in input a list of length m, that contains words with maximum length equal to n, and returns the list ordered according to alphabetical order. Discuss time complexity (theoretically and empirically)."
   ]
  },
  {
   "cell_type": "code",
   "execution_count": 12,
   "metadata": {},
   "outputs": [],
   "source": [
    "import string\n",
    "import numpy as np\n",
    "import pandas as pd\n",
    "import random"
   ]
  },
  {
   "cell_type": "code",
   "execution_count": 13,
   "metadata": {},
   "outputs": [],
   "source": [
    "def CountingSort_wor(words):\n",
    "    output = list()\n",
    "    m = len(words)\n",
    "    \n",
    "    for i in range(m): \n",
    "        if i == 0: # start comparing words appending first word\n",
    "            output.append(words[i])\n",
    "        else:\n",
    "            # checking and sorting words \n",
    "            for k in range(len(output)):\n",
    "                j = 0\n",
    "                # looking for the first 2 different letters\n",
    "                while j < len(words[i])-1 and j < len(output[k])-1 and words[i][j] == output[k][j]:\n",
    "                    j += 1\n",
    "                \n",
    "                # all strings are ordered according to their first word\n",
    "                if output[k][j] == ' ' and words[i][j] != ' ':\n",
    "                    new_out = [output[k], words[i]]\n",
    "                    if k == len(output)-1:\n",
    "                        output.append(words[i])\n",
    "                        break           \n",
    "      \n",
    "                elif output[k][j] != ' ' and words[i][j] == ' ':\n",
    "                    new_out = [words[i], output[k]]\n",
    "                    output.insert(k, words[i])\n",
    "                    break\n",
    "\n",
    "                elif j != len(output[k])-1 and j == len(words[i])-1 and words[i][j] == output[k][j]:\n",
    "                    new_out = [words[i], output[k]]\n",
    "                    output.insert(k, words[i])\n",
    "                    break                \n",
    "                \n",
    "                # priority to short words\n",
    "                elif j == len(output[k])-1 and j != len(words[i])-1 and words[i][j] == output[k][j]:\n",
    "                    new_out = [output[k], words[i]] \n",
    "                    if k == len(output)-1:\n",
    "                        output.append(words[i])\n",
    "                        break           \n",
    "\n",
    "                # sorting the single letters\n",
    "                else:\n",
    "                    x = [words[i][j], output[k][j]]\n",
    "                    new_out = CountingSort_let(x) # recalling function for sorting letters\n",
    "                    \n",
    "                    if new_out == x:\n",
    "                        output.insert(k, words[i])\n",
    "                        break\n",
    "                    else:\n",
    "                        if k == len(output)-1:\n",
    "                            output.append(words[i])\n",
    "                            break                \n",
    "\n",
    "    return output"
   ]
  },
  {
   "cell_type": "code",
   "execution_count": 14,
   "metadata": {},
   "outputs": [],
   "source": [
    "s = 'Given a set of words, a common natural task is the one of sorting them in alphabetical order. It is something that you have for sure already done once in your life, using your own algorithm without maybe knowing it.'\n",
    "test = s.split()"
   ]
  },
  {
   "cell_type": "code",
   "execution_count": 15,
   "metadata": {},
   "outputs": [
    {
     "data": {
      "text/plain": [
       "['a',\n",
       " 'a',\n",
       " 'algorithm',\n",
       " 'alphabetical',\n",
       " 'already',\n",
       " 'common',\n",
       " 'done',\n",
       " 'for',\n",
       " 'Given',\n",
       " 'have',\n",
       " 'It',\n",
       " 'in',\n",
       " 'in',\n",
       " 'is',\n",
       " 'is',\n",
       " 'it.',\n",
       " 'knowing',\n",
       " 'life,',\n",
       " 'maybe',\n",
       " 'natural',\n",
       " 'of',\n",
       " 'of',\n",
       " 'once',\n",
       " 'one',\n",
       " 'order.',\n",
       " 'own',\n",
       " 'set',\n",
       " 'something',\n",
       " 'sorting',\n",
       " 'sure',\n",
       " 'task',\n",
       " 'that',\n",
       " 'the',\n",
       " 'them',\n",
       " 'using',\n",
       " 'without',\n",
       " 'words,',\n",
       " 'you',\n",
       " 'your',\n",
       " 'your']"
      ]
     },
     "execution_count": 15,
     "metadata": {},
     "output_type": "execute_result"
    }
   ],
   "source": [
    "CountingSort_wor(test)"
   ]
  },
  {
   "cell_type": "code",
   "execution_count": null,
   "metadata": {},
   "outputs": [],
   "source": []
  },
  {
   "cell_type": "code",
   "execution_count": null,
   "metadata": {},
   "outputs": [],
   "source": []
  }
 ],
 "metadata": {
  "kernelspec": {
   "display_name": "Python 3",
   "language": "python",
   "name": "python3"
  },
  "language_info": {
   "codemirror_mode": {
    "name": "ipython",
    "version": 3
   },
   "file_extension": ".py",
   "mimetype": "text/x-python",
   "name": "python",
   "nbconvert_exporter": "python",
   "pygments_lexer": "ipython3",
   "version": "3.7.4"
  }
 },
 "nbformat": 4,
 "nbformat_minor": 2
}
