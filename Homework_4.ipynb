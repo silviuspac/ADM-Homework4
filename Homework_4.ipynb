{
 "cells": [
  {
   "cell_type": "code",
   "execution_count": 3,
   "metadata": {},
   "outputs": [],
   "source": [
    "import numpy as np\n",
    "from tqdm import tqdm\n",
    "import hashing_lib as hl\n",
    "# itertool ----- isslice"
   ]
  },
  {
   "cell_type": "markdown",
   "metadata": {},
   "source": [
    "# 1. Hashing task!"
   ]
  },
  {
   "cell_type": "markdown",
   "metadata": {},
   "source": [
    "For a probability of loss p = 5% we define a bloom filter with 623522423 elements e 4 hashing functions"
   ]
  },
  {
   "cell_type": "code",
   "execution_count": 4,
   "metadata": {},
   "outputs": [],
   "source": [
    "# p = 0.05\n",
    "n = 100000000\n",
    "# we choose 623522423 cause is a prime number \n",
    "m = 623522423\n",
    "# number of hashing functions: k = 4\n",
    "k = 4"
   ]
  },
  {
   "cell_type": "markdown",
   "metadata": {},
   "source": [
    "# Test with n = 1000000 passwors\n",
    "n = 1000000\n",
    "m = 6235241\n",
    "k = 4"
   ]
  },
  {
   "cell_type": "code",
   "execution_count": 5,
   "metadata": {},
   "outputs": [],
   "source": [
    "bloom_filter = hl.BloomFilter(n, m, k)"
   ]
  },
  {
   "cell_type": "code",
   "execution_count": null,
   "metadata": {},
   "outputs": [],
   "source": [
    "#sum(bloom_filter.bloom_filter)"
   ]
  },
  {
   "cell_type": "code",
   "execution_count": 6,
   "metadata": {},
   "outputs": [
    {
     "name": "stderr",
     "output_type": "stream",
     "text": [
      "100%|██████████| 100000000/100000000 [28:58<00:00, 57531.55it/s]\n"
     ]
    }
   ],
   "source": [
    "# 100000000 passwords in file1\n",
    "with open(\"../data/passwords1.txt\") as fin:\n",
    "    \n",
    "    with tqdm(total = 100000000) as pbar:\n",
    "        for _ in range(100000000):\n",
    "            line = fin.readline().strip()\n",
    "            bloom_filter.add_to_bloom(line)\n",
    "            \n",
    "            pbar.update(1)\n",
    "        "
   ]
  },
  {
   "cell_type": "code",
   "execution_count": 7,
   "metadata": {},
   "outputs": [
    {
     "data": {
      "text/plain": [
       "100000000"
      ]
     },
     "execution_count": 7,
     "metadata": {},
     "output_type": "execute_result"
    }
   ],
   "source": [
    "bloom_filter.n_elements"
   ]
  },
  {
   "cell_type": "code",
   "execution_count": 8,
   "metadata": {
    "scrolled": true
   },
   "outputs": [
    {
     "name": "stderr",
     "output_type": "stream",
     "text": [
      "100%|██████████| 39000000/39000000 [10:00<00:00, 64987.92it/s]\n"
     ]
    }
   ],
   "source": [
    "# 39000000 passwords in file1\n",
    "with open(\"../data/passwords2.txt\") as fin2:\n",
    "\n",
    "    with tqdm(total = 39000000) as pbar:\n",
    "        for _ in range(39000000):\n",
    "            line = fin2.readline().strip()\n",
    "            bloom_filter.check_pass(line)\n",
    "            \n",
    "            pbar.update(1)"
   ]
  },
  {
   "cell_type": "code",
   "execution_count": 9,
   "metadata": {},
   "outputs": [
    {
     "data": {
      "text/plain": [
       "18159928"
      ]
     },
     "execution_count": 9,
     "metadata": {},
     "output_type": "execute_result"
    }
   ],
   "source": [
    "bloom_filter.n_duplicates"
   ]
  },
  {
   "cell_type": "code",
   "execution_count": 10,
   "metadata": {},
   "outputs": [
    {
     "data": {
      "text/plain": [
       "0.18159928"
      ]
     },
     "execution_count": 10,
     "metadata": {},
     "output_type": "execute_result"
    }
   ],
   "source": []
  }
 ],
 "metadata": {
  "kernelspec": {
   "display_name": "Python 3",
   "language": "python",
   "name": "python3"
  },
  "language_info": {
   "codemirror_mode": {
    "name": "ipython",
    "version": 3
   },
   "file_extension": ".py",
   "mimetype": "text/x-python",
   "name": "python",
   "nbconvert_exporter": "python",
   "pygments_lexer": "ipython3",
   "version": "3.7.4"
  }
 },
 "nbformat": 4,
 "nbformat_minor": 2
}
