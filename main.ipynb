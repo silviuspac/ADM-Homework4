{
 "cells": [
  {
   "cell_type": "code",
   "execution_count": 33,
   "metadata": {},
   "outputs": [],
   "source": [
    "from tqdm import tqdm   # you may have to download it\n",
    "import hashing_lib as hl\n",
    "import time\n",
    "import numpy as np\n",
    "import re\n",
    "import string\n",
    "import random\n",
    "import pandas as pd\n",
    "from sklearn.cluster import KMeans\n",
    "import matplotlib.pyplot as plt\n",
    "\n",
    "# In hashing_lib.py we imported BitVector, you may have to download it"
   ]
  },
  {
   "cell_type": "markdown",
   "metadata": {},
   "source": [
    "# 1. Hashing task!"
   ]
  },
  {
   "cell_type": "markdown",
   "metadata": {},
   "source": [
    "We found the optimal number of hash functions $ k $, for a given size of the bloom filter $ m $ and number of elements $ n $, approximating $ k = \\frac{m}{n}ln2 $.\n",
    "\n",
    "We set $ p $ as the desired false positive probability and found that $ k = -\\log_2{p} $ is a good approximation.\n",
    "\n",
    "So setting $ p = 0.01 $ we have $ k = 6.64 \\simeq 6 $\n",
    "\n",
    "We found that in $ passwords1.txt $ there are $ 100\\,000\\,000 $ passwords so $ n = 100\\,000\\,000$.\n",
    "\n",
    "Now we can set the size $ m $ of the $ BloomFilter $, $ m = -\\frac{n\\ln{p}}{\\ln^2{2}} \\simeq 958\\,505\\,837 $"
   ]
  },
  {
   "cell_type": "code",
   "execution_count": 2,
   "metadata": {},
   "outputs": [],
   "source": [
    "p = 0.01\n",
    "n = 100_000_000\n",
    "# we choose 958_505_837\n",
    "m = 958_505_837\n",
    "# number of hashing functions: k = 6\n",
    "k = 6"
   ]
  },
  {
   "cell_type": "markdown",
   "metadata": {},
   "source": [
    "We choose to create a Class $ BloomFilter $ that take in input $ m $ and $ k $ precalculated. The class create a bit vector of size $ m $ and keep records of the number of passwords added in the filter and the number of probable duplicates found.\n",
    "\n",
    "In $ Less Hashing, Same Performance: Building a Better Bloom Filter $ we found a theorem that say we don't have to create 6 hashing functions (that are computational expensive), but instead we can use 2 independent hashing functions, $ h_1 $ and $ h_2 $ and iterate them using the following formula: $$ g_i(x) = h_1(x) + ih_2(x) + f(i) \\mod{m} $$\n",
    "with $ i $ in $ range(k) $."
   ]
  },
  {
   "cell_type": "markdown",
   "metadata": {},
   "source": [
    "In our case we defined 2 simple hashing functions $ hash\\_1(string) $ and $ hash\\_2(string) $ and choose $ f(i) = i^2 $."
   ]
  },
  {
   "cell_type": "code",
   "execution_count": 3,
   "metadata": {},
   "outputs": [],
   "source": [
    "bloom_filter = hl.BloomFilter(m, k)"
   ]
  },
  {
   "cell_type": "code",
   "execution_count": 4,
   "metadata": {},
   "outputs": [
    {
     "name": "stderr",
     "output_type": "stream",
     "text": [
      "100%|██████████| 100000000/100000000 [55:14<00:00, 30167.78it/s] \n",
      "100%|██████████| 39000000/39000000 [13:30<00:00, 48141.68it/s]"
     ]
    },
    {
     "name": "stdout",
     "output_type": "stream",
     "text": [
      "Execution time:  68.74856994549434 minutes\n"
     ]
    },
    {
     "name": "stderr",
     "output_type": "stream",
     "text": [
      "\n"
     ]
    }
   ],
   "source": [
    "# 100,000,000 passwords in file1\n",
    "s = time.time()\n",
    "\n",
    "with tqdm(total = n) as pbar:\n",
    "    with open(\"../data/passwords1.txt\") as fin:\n",
    "        for line in fin:\n",
    "            line = line.strip()\n",
    "            bloom_filter.add_to_bloom(line)\n",
    "            pbar.update(1)\n",
    "            \n",
    "# 39,000,000 passwords in file1\n",
    "with open(\"../data/passwords2.txt\") as fin2:\n",
    "    with tqdm(total = 39_000_000) as pbar:\n",
    "        for line in fin2:\n",
    "            line = line.strip()\n",
    "            bloom_filter.check_in_bloom(line)\n",
    "            \n",
    "            pbar.update(1)\n",
    "\n",
    "print('Execution time: ', (time.time() - s)/60, 'minutes')"
   ]
  },
  {
   "cell_type": "code",
   "execution_count": 5,
   "metadata": {},
   "outputs": [
    {
     "name": "stdout",
     "output_type": "stream",
     "text": [
      "Number of elements:  100000000\n",
      "Number of probably duplicates:  14253875\n",
      "Size of the filter:  958505837\n",
      "Number of hashing functions:  6\n",
      "False positives probability : 1.0 %\n"
     ]
    }
   ],
   "source": [
    "# print some stats of the bloom filter\n",
    "bloom_filter.print_stats()\n",
    "print('False positives probability :', p*100, '%')"
   ]
  },
  {
   "cell_type": "markdown",
   "metadata": {},
   "source": [
    "## Bonus"
   ]
  },
  {
   "cell_type": "markdown",
   "metadata": {},
   "source": [
    "We create a set of passwords to see the number of actual duplicates.\n",
    "\n",
    "We use the set cause it doesn't allow duplicates, so knowing the number of total passwords we can calculate the number of duplicates"
   ]
  },
  {
   "cell_type": "markdown",
   "metadata": {},
   "source": [
    "##### This task is really heavy, if you want to see only the actual duplicates just run the last line\n",
    "We found out that the number of actual duplicates is $ 14\\,000\\,000 $, so we can use this and substract to the probably duplicates of the filter to find the real false positives."
   ]
  },
  {
   "cell_type": "code",
   "execution_count": 10,
   "metadata": {},
   "outputs": [
    {
     "name": "stderr",
     "output_type": "stream",
     "text": [
      "100%|██████████| 100000000/100000000 [02:18<00:00, 722177.76it/s]\n",
      "100%|██████████| 39000000/39000000 [00:59<00:00, 657872.79it/s]\n"
     ]
    }
   ],
   "source": [
    "all_passwords = set([])\n",
    "with tqdm(total = n) as pbar:\n",
    "    with open(\"passwords1.txt\") as fin:\n",
    "        for line in fin:\n",
    "            # add pass to set\n",
    "            all_passwords.update([line.strip()])\n",
    "            pbar.update(1)\n",
    "            \n",
    "with open(\"passwords2.txt\") as fin2:\n",
    "    with tqdm(total = 39_000_000) as pbar2:\n",
    "        for line in fin2:\n",
    "            # add pass to set\n",
    "            all_passwords.update([line.strip()])\n",
    "            pbar2.update(1)\n"
   ]
  },
  {
   "cell_type": "code",
   "execution_count": 12,
   "metadata": {},
   "outputs": [],
   "source": [
    "# Calculate actuall duplicates\n",
    "actual_duplicates = 139_000_000 - len(all_passwords)"
   ]
  },
  {
   "cell_type": "code",
   "execution_count": 13,
   "metadata": {},
   "outputs": [
    {
     "name": "stdout",
     "output_type": "stream",
     "text": [
      "14000000\n"
     ]
    }
   ],
   "source": [
    "print(actual_duplicates )"
   ]
  },
  {
   "cell_type": "markdown",
   "metadata": {},
   "source": [
    "So the number of the false positives is:"
   ]
  },
  {
   "cell_type": "code",
   "execution_count": 6,
   "metadata": {},
   "outputs": [
    {
     "data": {
      "text/plain": [
       "253875"
      ]
     },
     "execution_count": 6,
     "metadata": {},
     "output_type": "execute_result"
    }
   ],
   "source": [
    "bloom_filter.n_duplicates - 14_000_000"
   ]
  },
  {
   "cell_type": "markdown",
   "metadata": {},
   "source": [
    "### Conclusions\n",
    "So out of $ 25\\,000\\,000 $ passwords only $ 253\\,875 $ results as false positive.\n",
    "\n",
    "We can state that our bloom filter with  $ 1\\% $ false positive probability worked."
   ]
  },
  {
   "cell_type": "markdown",
   "metadata": {},
   "source": [
    "# 2. Alphabetical Sort"
   ]
  },
  {
   "cell_type": "markdown",
   "metadata": {},
   "source": [
    "## Part 1\n",
    "\n",
    "### Build your own implementation of Counting Sort"
   ]
  },
  {
   "cell_type": "code",
   "execution_count": 1,
   "metadata": {},
   "outputs": [],
   "source": [
    "def CountingSort_num(A):\n",
    "    size = max(A)  \n",
    "    aux = np.zeros(size+1, dtype=int) # we define an auxiliary array \n",
    "    for i in A:\n",
    "        aux[i] += 1    # with this for we can see the occurrency of each element to the respective index\n",
    "    sort = []   # defining the output\n",
    "    for j in range(size+1):\n",
    "        sort.extend([j]*aux[j])\n",
    "    return sort"
   ]
  },
  {
   "cell_type": "markdown",
   "metadata": {},
   "source": [
    "##### Testing (Comparing sorted() function with our CountingSort function)"
   ]
  },
  {
   "cell_type": "code",
   "execution_count": 4,
   "metadata": {},
   "outputs": [
    {
     "name": "stdout",
     "output_type": "stream",
     "text": [
      "[1, 2, 2, 3, 4, 5, 6, 8, 9]\n",
      "[1, 2, 2, 3, 4, 5, 6, 8, 9]\n"
     ]
    }
   ],
   "source": [
    "test = [3, 1, 4, 2, 6, 8, 9, 2, 5]\n",
    "\n",
    "print(sorted(test))\n",
    "print(CountingSort_num(test))"
   ]
  },
  {
   "cell_type": "code",
   "execution_count": 5,
   "metadata": {},
   "outputs": [
    {
     "data": {
      "text/plain": [
       "True"
      ]
     },
     "execution_count": 5,
     "metadata": {},
     "output_type": "execute_result"
    }
   ],
   "source": [
    "# just to be sure\n",
    "\n",
    "sorted(test)==CountingSort_num(test)"
   ]
  },
  {
   "cell_type": "markdown",
   "metadata": {},
   "source": [
    "#### Time Complexity\n",
    "\n",
    "Theoretically time complexity for: CountingSort_num():\n",
    "\n",
    "There are 2 \"for\" cycle that are scanning through n (size of the maximum number in the list), so the complexity is:\n",
    "\n",
    "O(2n) → O(n)\n"
   ]
  },
  {
   "cell_type": "markdown",
   "metadata": {},
   "source": [
    "## Part 2\n",
    "\n",
    "### Build an algorithm, based on your implementation of Counting Sort, that receives in input a list with all the letters of the alphabet (not in alphabetical order), and returns the list ordered according to alphabetical order. Discuss time complexity (theoretically and empirically)."
   ]
  },
  {
   "cell_type": "markdown",
   "metadata": {},
   "source": [
    "#### First of all we create a list containing all the letters of the alphabet not in alphabetical order."
   ]
  },
  {
   "cell_type": "code",
   "execution_count": 7,
   "metadata": {},
   "outputs": [],
   "source": [
    "alphabet_l = string.ascii_lowercase\n",
    "alphabet_u = string.ascii_uppercase"
   ]
  },
  {
   "cell_type": "code",
   "execution_count": 8,
   "metadata": {},
   "outputs": [],
   "source": [
    "# we use \"sample\" function to get elements without replacement\n",
    "string_letters = random.sample(alphabet_l + alphabet_u, k=52)"
   ]
  },
  {
   "cell_type": "markdown",
   "metadata": {},
   "source": [
    "#### Now, given this list, we implement our CountingSort function to get the ordered list of letters."
   ]
  },
  {
   "cell_type": "code",
   "execution_count": 22,
   "metadata": {},
   "outputs": [],
   "source": [
    "def CountingSort_let(letters):\n",
    "    \n",
    "    alphabet_l = string.ascii_lowercase\n",
    "    alphabet_u = string.ascii_uppercase\n",
    "    \n",
    "    # first thing: for each letter we get the Unicode values\n",
    "\n",
    "    unicode_l = []\n",
    "    unicode_u = []\n",
    "\n",
    "    for i in alphabet_l:\n",
    "        unicode_l.append(ord(i))\n",
    "    for j in alphabet_u:\n",
    "        unicode_u.append(ord(j))\n",
    "\n",
    "    # now we create a map to get in order the Unicode values associated to upper and lower case (example: AaBbCc...).\n",
    "    # in this way we are initializing the alphabetical order.\n",
    "\n",
    "    unicode_map = []\n",
    "\n",
    "    for p in zip(unicode_u, unicode_l):\n",
    "        for code in p:\n",
    "            unicode_map.append(code)\n",
    "\n",
    "    # creating a dictionary to have an index for each unicode\n",
    "\n",
    "    dict_alpha = {code:i for i, code in enumerate(unicode_map)}\n",
    "\n",
    "    # creating the reverse of the dictionary\n",
    "\n",
    "    dict_alpha_rev = {ind:code for code, ind in dict_alpha.items()}\n",
    "\n",
    "    # we define an auxiliary array\n",
    "\n",
    "    aux = np.zeros(len(dict_alpha), dtype=int)\n",
    "\n",
    "    # taking the input, we have to convert it into Unicode values\n",
    "\n",
    "    num = []\n",
    "    for i in letters:\n",
    "        num.append(ord(i))\n",
    "\n",
    "    # Now, as we made for the CountingSort function for the numbers,\n",
    "    # we check the occurrences of each character (from the input)\n",
    "    # and we set values of aux\n",
    "\n",
    "    for i in num:\n",
    "        aux[dict_alpha[i]] += 1\n",
    "\n",
    "    sorted_letters = []\n",
    "\n",
    "    for i in range(len(aux)):\n",
    "        sorted_letters.extend([chr(dict_alpha_rev[i])]*aux[i])\n",
    "\n",
    "    return sorted_letters"
   ]
  },
  {
   "cell_type": "markdown",
   "metadata": {},
   "source": [
    "#### Now we can finally test our CountingSort with the dictionary containing all the letters of the alphabet not in order."
   ]
  },
  {
   "cell_type": "code",
   "execution_count": 17,
   "metadata": {},
   "outputs": [
    {
     "name": "stdout",
     "output_type": "stream",
     "text": [
      "['j', 'Z', 'f', 'a', 'X', 'o', 'g', 'r', 'i', 'R', 'h', 'U', 'n', 'l', 'S', 'W', 'G', 'q', 't', 'k', 'P', 'F', 'b', 's', 'D', 'N', 'Q', 'y', 'O', 'E', 'Y', 'A', 'e', 'V', 'c', 'p', 'M', 'T', 'x', 'z', 'm', 'C', 'B', 'H', 'u', 'w', 'I', 'L', 'J', 'd', 'v', 'K']\n"
     ]
    }
   ],
   "source": [
    "print(string_letters)"
   ]
  },
  {
   "cell_type": "code",
   "execution_count": 23,
   "metadata": {},
   "outputs": [
    {
     "name": "stdout",
     "output_type": "stream",
     "text": [
      "['A', 'a', 'B', 'b', 'C', 'c', 'D', 'd', 'E', 'e', 'F', 'f', 'G', 'g', 'H', 'h', 'I', 'i', 'J', 'j', 'K', 'k', 'L', 'l', 'M', 'm', 'N', 'n', 'O', 'o', 'P', 'p', 'Q', 'q', 'R', 'r', 'S', 's', 'T', 't', 'U', 'u', 'V', 'v', 'W', 'w', 'X', 'x', 'Y', 'y', 'Z', 'z']\n"
     ]
    }
   ],
   "source": [
    "# Applying the function\n",
    "print(CountingSort_let(string_letters))"
   ]
  },
  {
   "cell_type": "markdown",
   "metadata": {},
   "source": [
    "#### Time complexity"
   ]
  },
  {
   "cell_type": "markdown",
   "metadata": {},
   "source": [
    "We can not take into consideration the time complexity of creating the lists containing the ASCII value of upper and lower cases cause the for loops have a constant number of iteration, in our case 26 for the lower case and 26 for the upper case.\n",
    "\n",
    "We can say the same for the alphabet dictionary.\n",
    "\n",
    "The given N = len(letters):\n",
    "* The first loop take O(N)\n",
    "* The second also take O(N)\n",
    "* The last loop take O(52)\n",
    "\n",
    "So the time complexity of this functions is: $ O(2N + 52) \\rightarrow O(N) $"
   ]
  },
  {
   "cell_type": "markdown",
   "metadata": {},
   "source": [
    "## Part 3\n",
    "\n",
    "### Build an algorithm, based on your implementation of Counting Sort, that receives in input a list of length m, that contains words with maximum length equal to n, and returns the list ordered according to alphabetical order. Discuss time complexity (theoretically and empirically)."
   ]
  },
  {
   "cell_type": "code",
   "execution_count": 19,
   "metadata": {},
   "outputs": [],
   "source": [
    "def CountingSort_wor(words):\n",
    "    output = list()\n",
    "    m = len(words)\n",
    "    \n",
    "    for i in range(m): \n",
    "        if i == 0: # start comparing words appending first word\n",
    "            output.append(words[i])\n",
    "        else:\n",
    "            # checking and sorting words \n",
    "            for k in range(len(output)):\n",
    "                j = 0\n",
    "                # looking for the first 2 different letters\n",
    "                while j < len(words[i])-1 and j < len(output[k])-1 and words[i][j] == output[k][j]:\n",
    "                    j += 1\n",
    "                \n",
    "                # all strings are ordered according to their first word\n",
    "                if output[k][j] == ' ' and words[i][j] != ' ':\n",
    "                    new_out = [output[k], words[i]]\n",
    "                    if k == len(output)-1:\n",
    "                        output.append(words[i])\n",
    "                        break           \n",
    "      \n",
    "                elif output[k][j] != ' ' and words[i][j] == ' ':\n",
    "                    new_out = [words[i], output[k]]\n",
    "                    output.insert(k, words[i])\n",
    "                    break\n",
    "\n",
    "                elif j != len(output[k])-1 and j == len(words[i])-1 and words[i][j] == output[k][j]:\n",
    "                    new_out = [words[i], output[k]]\n",
    "                    output.insert(k, words[i])\n",
    "                    break                \n",
    "                \n",
    "                # priority to short words\n",
    "                elif j == len(output[k])-1 and j != len(words[i])-1 and words[i][j] == output[k][j]:\n",
    "                    new_out = [output[k], words[i]] \n",
    "                    if k == len(output)-1:\n",
    "                        output.append(words[i])\n",
    "                        break           \n",
    "\n",
    "                # sorting the single letters\n",
    "                else:\n",
    "                    x = [words[i][j], output[k][j]]\n",
    "                    new_out = CountingSort_let(x) # recalling function for sorting letters\n",
    "                    \n",
    "                    if new_out == x:\n",
    "                        output.insert(k, words[i])\n",
    "                        break\n",
    "                    else:\n",
    "                        if k == len(output)-1:\n",
    "                            output.append(words[i])\n",
    "                            break                \n",
    "\n",
    "    return output"
   ]
  },
  {
   "cell_type": "markdown",
   "metadata": {},
   "source": [
    "#### Test our function"
   ]
  },
  {
   "cell_type": "code",
   "execution_count": 20,
   "metadata": {},
   "outputs": [],
   "source": [
    "s = 'Given a set of words, a common natural task is the one of sorting them in alphabetical order. It is something that you have for sure already done once in your life, using your own algorithm without maybe knowing it.'\n",
    "test = s.split()"
   ]
  },
  {
   "cell_type": "code",
   "execution_count": 27,
   "metadata": {},
   "outputs": [
    {
     "name": "stdout",
     "output_type": "stream",
     "text": [
      "['a', 'a', 'algorithm', 'alphabetical', 'already', 'common', 'done', 'for', 'Given', 'have', 'It', 'in', 'in', 'is', 'is', 'it.', 'knowing', 'life,', 'maybe', 'natural', 'of', 'of', 'once', 'one', 'order.', 'own', 'set', 'something', 'sorting', 'sure', 'task', 'that', 'the', 'them', 'using', 'without', 'words,', 'you', 'your', 'your']\n"
     ]
    }
   ],
   "source": [
    "print(CountingSort_wor(test))"
   ]
  },
  {
   "cell_type": "markdown",
   "metadata": {},
   "source": [
    "#### Time complexity\n",
    "\n",
    "We take a word from our initial list and append it a output list in the right place. So we have to compare every word in input list with every word in output list, so we will have a double for loop.\n",
    "\n",
    "Given $M$ = len(words), the number of words to sort and $N$ = len(words[i]) the max length of words:\n",
    "* The first loop take O(M)\n",
    "* The second loop, iside the first, take O(M)\n",
    "* The while loop, inside the second, take O(N)\n",
    "\n",
    "For the asymptotic analysis we can not take into consideration the time complexity of the if/else statement.\n",
    "\n",
    "So we have a 3 loops inside each other: $ O(M*M*(N + 1 + ....) \\rightarrow O(M^2*N) $\n",
    "\n",
    "This is thw worst case, in fact if $ M >>> N :  O(M^2*N) \\rightarrow O(M^2) $"
   ]
  },
  {
   "cell_type": "markdown",
   "metadata": {},
   "source": [
    "# 3. Find similar wines!"
   ]
  },
  {
   "cell_type": "code",
   "execution_count": null,
   "metadata": {},
   "outputs": [],
   "source": []
  },
  {
   "cell_type": "code",
   "execution_count": null,
   "metadata": {},
   "outputs": [],
   "source": []
  },
  {
   "cell_type": "code",
   "execution_count": null,
   "metadata": {},
   "outputs": [],
   "source": []
  },
  {
   "cell_type": "markdown",
   "metadata": {},
   "source": [
    "# 4. K-means can go wrong!\n",
    "\n",
    "K-means is a good algorithm for local fine-tuning but it has serious limitation to relocate the centroids when the clusters do not overlap, so a better initialization can compensate for the weakness of k-means.\n",
    "\n",
    "Any clustering algorithm could be used as an initialization technique for k-means. However, solving the location of initial centroids is not significantly easier than the original clustering problem itself, so our initialization algorithm must have a lower (or equal) time complexity than k-means.\n",
    "\n",
    "In this exercise we try and compute the running time of clustering with k-means and then with k-means++.\n",
    "\n",
    "So to see if a better initialization works, we use k-means++ to choose the initial values (or seeds) for the k-means clustering algorithm.\n"
   ]
  },
  {
   "cell_type": "markdown",
   "metadata": {},
   "source": [
    "##### We import the dataframe used in the lab (crimes is Chicago), and test k-means and k-means++ on the same data"
   ]
  },
  {
   "cell_type": "code",
   "execution_count": 31,
   "metadata": {},
   "outputs": [],
   "source": [
    "# Import chicago crimes dataset and clean the data\n",
    "# We select only the longitude e Latitude\n",
    "df = pd.read_csv(\"../crimes.csv\", usecols = ['Longitude', 'Latitude'])\n",
    "# clean data\n",
    "df = df.dropna(0)\n",
    "df.drop( df[ df['Longitude'] < -91].index , inplace=True)"
   ]
  },
  {
   "cell_type": "code",
   "execution_count": 32,
   "metadata": {},
   "outputs": [
    {
     "data": {
      "text/html": [
       "<div>\n",
       "<style scoped>\n",
       "    .dataframe tbody tr th:only-of-type {\n",
       "        vertical-align: middle;\n",
       "    }\n",
       "\n",
       "    .dataframe tbody tr th {\n",
       "        vertical-align: top;\n",
       "    }\n",
       "\n",
       "    .dataframe thead th {\n",
       "        text-align: right;\n",
       "    }\n",
       "</style>\n",
       "<table border=\"1\" class=\"dataframe\">\n",
       "  <thead>\n",
       "    <tr style=\"text-align: right;\">\n",
       "      <th></th>\n",
       "      <th>Latitude</th>\n",
       "      <th>Longitude</th>\n",
       "    </tr>\n",
       "  </thead>\n",
       "  <tbody>\n",
       "    <tr>\n",
       "      <td>63366</td>\n",
       "      <td>41.708589</td>\n",
       "      <td>-87.612583</td>\n",
       "    </tr>\n",
       "    <tr>\n",
       "      <td>63450</td>\n",
       "      <td>41.884865</td>\n",
       "      <td>-87.755230</td>\n",
       "    </tr>\n",
       "    <tr>\n",
       "      <td>63451</td>\n",
       "      <td>41.940298</td>\n",
       "      <td>-87.732066</td>\n",
       "    </tr>\n",
       "    <tr>\n",
       "      <td>63527</td>\n",
       "      <td>41.697609</td>\n",
       "      <td>-87.613508</td>\n",
       "    </tr>\n",
       "    <tr>\n",
       "      <td>63934</td>\n",
       "      <td>41.729973</td>\n",
       "      <td>-87.653167</td>\n",
       "    </tr>\n",
       "  </tbody>\n",
       "</table>\n",
       "</div>"
      ],
      "text/plain": [
       "        Latitude  Longitude\n",
       "63366  41.708589 -87.612583\n",
       "63450  41.884865 -87.755230\n",
       "63451  41.940298 -87.732066\n",
       "63527  41.697609 -87.613508\n",
       "63934  41.729973 -87.653167"
      ]
     },
     "execution_count": 32,
     "metadata": {},
     "output_type": "execute_result"
    }
   ],
   "source": [
    "df.head(5) # Some values of the dataset"
   ]
  },
  {
   "cell_type": "markdown",
   "metadata": {},
   "source": [
    "#### Running time of k-means with random init"
   ]
  },
  {
   "cell_type": "code",
   "execution_count": 34,
   "metadata": {},
   "outputs": [
    {
     "data": {
      "image/png": "[encoded data removed]",
      "text/plain": [
       "<Figure size 1080x720 with 1 Axes>"
      ]
     },
     "metadata": {
      "needs_background": "light"
     },
     "output_type": "display_data"
    },
    {
     "name": "stdout",
     "output_type": "stream",
     "text": [
      "Rand time:  483.0710108280182\n"
     ]
    }
   ],
   "source": [
    "s = time.time()\n",
    "\n",
    "# Create our k-mean model with random init\n",
    "model = KMeans(n_clusters = 10, init = 'random')\n",
    "\n",
    "# Fit our data in the model\n",
    "model.fit(df[['Latitude', 'Longitude']])\n",
    "\n",
    "centroids = model.cluster_centers_\n",
    "\n",
    "fig = plt.figure(figsize = (15,10))\n",
    "plt.scatter(df['Latitude'],df['Longitude'])\n",
    "plt.scatter(centroids[:,0], centroids[:,1], marker='x')\n",
    "\n",
    "plt.show()\n",
    "\n",
    "\n",
    "time_rand = time.time() - s\n",
    "print('Rand time: ', time_rand)"
   ]
  },
  {
   "cell_type": "markdown",
   "metadata": {},
   "source": [
    "#### Running time of k-means++"
   ]
  },
  {
   "cell_type": "code",
   "execution_count": 35,
   "metadata": {},
   "outputs": [
    {
     "data": {
      "image/png": "[encoded data removed]",
      "text/plain": [
       "<Figure size 1080x720 with 1 Axes>"
      ]
     },
     "metadata": {
      "needs_background": "light"
     },
     "output_type": "display_data"
    },
    {
     "name": "stdout",
     "output_type": "stream",
     "text": [
      "K-means++ time:  382.7605662345886\n"
     ]
    }
   ],
   "source": [
    "t = time.time()\n",
    "\n",
    "# Create our k-mean model with k-means++ init\n",
    "model1 = KMeans(n_clusters = 10, init = 'k-means++')\n",
    "\n",
    "# Fit our data in the model\n",
    "model1.fit(df[['Latitude', 'Longitude']])\n",
    "\n",
    "centroids1 = model.cluster_centers_\n",
    "\n",
    "fig1 = plt.figure(figsize = (15,10))\n",
    "plt.scatter(df['Latitude'],df['Longitude'])\n",
    "plt.scatter(centroids1[:,0], centroids1[:,1], marker='x')\n",
    "plt.show()\n",
    "\n",
    "time_k = time.time() - t\n",
    "print('K-means++ time: ', time_k)"
   ]
  },
  {
   "cell_type": "markdown",
   "metadata": {},
   "source": [
    "So our speedup percentage is:"
   ]
  },
  {
   "cell_type": "code",
   "execution_count": 36,
   "metadata": {},
   "outputs": [
    {
     "name": "stdout",
     "output_type": "stream",
     "text": [
      "20.765155090033304  %\n"
     ]
    }
   ],
   "source": [
    "print(100*(1-time_k/time_rand), \" %\")"
   ]
  },
  {
   "cell_type": "markdown",
   "metadata": {},
   "source": [
    "So we can conclude that using a better initialization can speedup the k-mean algorithm."
   ]
  }
 ],
 "metadata": {
  "kernelspec": {
   "display_name": "Python 3",
   "language": "python",
   "name": "python3"
  },
  "language_info": {
   "codemirror_mode": {
    "name": "ipython",
    "version": 3
   },
   "file_extension": ".py",
   "mimetype": "text/x-python",
   "name": "python",
   "nbconvert_exporter": "python",
   "pygments_lexer": "ipython3",
   "version": "3.7.4"
  }
 },
 "nbformat": 4,
 "nbformat_minor": 2
}
