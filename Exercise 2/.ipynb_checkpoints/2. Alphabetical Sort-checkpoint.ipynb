{
 "cells": [
  {
   "cell_type": "markdown",
   "metadata": {},
   "source": [
    "# 2. Alphabetical Sort"
   ]
  },
  {
   "cell_type": "markdown",
   "metadata": {},
   "source": [
    "## Part 1"
   ]
  },
  {
   "cell_type": "markdown",
   "metadata": {},
   "source": [
    "### Build your own implementation of Counting Sort"
   ]
  },
  {
   "cell_type": "code",
   "execution_count": 1,
   "metadata": {},
   "outputs": [],
   "source": [
    "import numpy as np\n",
    "import re"
   ]
  },
  {
   "cell_type": "code",
   "execution_count": 2,
   "metadata": {},
   "outputs": [],
   "source": [
    "def CountingSort(A):\n",
    "    size = max(A)  \n",
    "    aux = np.zeros(size+1, dtype=int) # we define an auxiliary array \n",
    "    for i in A:\n",
    "        aux[i] += 1    # with this for we can see the occurrency of each element to the respective index\n",
    "    sort = []   # defining the output\n",
    "    for j in range(size+1):\n",
    "        sort.extend([j]*aux[j])\n",
    "    return sort"
   ]
  },
  {
   "cell_type": "markdown",
   "metadata": {},
   "source": [
    "#### Testing (Comparing sorted() function with our CountingSort function)"
   ]
  },
  {
   "cell_type": "code",
   "execution_count": 3,
   "metadata": {},
   "outputs": [
    {
     "name": "stdout",
     "output_type": "stream",
     "text": [
      "[1, 2, 2, 3, 4, 5, 6, 8, 9]\n",
      "[1, 2, 2, 3, 4, 5, 6, 8, 9]\n"
     ]
    }
   ],
   "source": [
    "test = [3, 1, 4, 2, 6, 8, 9, 2, 5]\n",
    "\n",
    "print(sorted(test))\n",
    "print(CountingSort(test))"
   ]
  },
  {
   "cell_type": "code",
   "execution_count": 4,
   "metadata": {},
   "outputs": [
    {
     "data": {
      "text/plain": [
       "True"
      ]
     },
     "execution_count": 4,
     "metadata": {},
     "output_type": "execute_result"
    }
   ],
   "source": [
    "# just to be sure\n",
    "\n",
    "sorted(test)==CountingSort(test)"
   ]
  },
  {
   "cell_type": "code",
   "execution_count": null,
   "metadata": {},
   "outputs": [],
   "source": []
  },
  {
   "cell_type": "code",
   "execution_count": null,
   "metadata": {},
   "outputs": [],
   "source": []
  },
  {
   "cell_type": "code",
   "execution_count": null,
   "metadata": {},
   "outputs": [],
   "source": []
  },
  {
   "cell_type": "markdown",
   "metadata": {},
   "source": [
    "## Part 2"
   ]
  },
  {
   "cell_type": "markdown",
   "metadata": {},
   "source": [
    "### Build an algorithm, based on your implementation of Counting Sort, that receives in input a list with all the letters of the alphabet (not in alphabetical order), and returns the list ordered according to alphabetical order. Discuss time complexity (theoretically and empirically)."
   ]
  },
  {
   "cell_type": "code",
   "execution_count": 5,
   "metadata": {},
   "outputs": [],
   "source": [
    "import string\n",
    "import random\n",
    "import numpy as np"
   ]
  },
  {
   "cell_type": "markdown",
   "metadata": {},
   "source": [
    "#### First of all we create a list containing all the letters of the alphabet not in alphabetical order.\n"
   ]
  },
  {
   "cell_type": "code",
   "execution_count": 6,
   "metadata": {},
   "outputs": [],
   "source": [
    "alphabet_l = string.ascii_lowercase\n",
    "alphabet_u = string.ascii_uppercase"
   ]
  },
  {
   "cell_type": "code",
   "execution_count": 7,
   "metadata": {},
   "outputs": [],
   "source": [
    "string_letters = random.sample(alphabet_l + alphabet_u, k=52) # we use \"sample\" function to get elements without replacement "
   ]
  },
  {
   "cell_type": "markdown",
   "metadata": {},
   "source": [
    "#### Now, given this list, we implement our CountingSort function to get the ordered list of letters."
   ]
  },
  {
   "cell_type": "code",
   "execution_count": 8,
   "metadata": {},
   "outputs": [],
   "source": [
    "def CountingSort(letters):\n",
    "    # first thing: for each letter we get the Unicode values\n",
    "\n",
    "    unicode_l = []\n",
    "    unicode_u = []\n",
    "\n",
    "    for i in alphabet_l:\n",
    "        unicode_l.append(ord(i))\n",
    "    for j in alphabet_u:\n",
    "        unicode_u.append(ord(j))\n",
    "\n",
    "    # now we create a map to get in order the Unicode values associated to upper and lower case (example: AaBbCc...).\n",
    "    # in this way we are initializing the alphabetical order.\n",
    "\n",
    "    unicode_map = []\n",
    "\n",
    "    for p in zip(unicode_u, unicode_l):\n",
    "        for code in p:\n",
    "            unicode_map.append(code)\n",
    "\n",
    "    # creating a dictionary to have an index for each unicode\n",
    "\n",
    "    dict_alpha = {code:i for i, code in enumerate(unicode_map)}\n",
    "\n",
    "    # creating the reverse of the dictionary\n",
    "\n",
    "    dict_alpha_rev = {ind:code for code, ind in dict_alpha.items()}\n",
    "\n",
    "    # we define an auxiliary array\n",
    "\n",
    "    aux = np.zeros(len(dict_alpha), dtype=int)\n",
    "\n",
    "    # taking the input, we have to convert it into Unicode values\n",
    "\n",
    "    num = []\n",
    "    for i in letters:\n",
    "        num.append(ord(i))\n",
    "\n",
    "    # Now, as we made for the CountingSort function for the numbers,\n",
    "    # we check the occurrences of each character (from the input)\n",
    "    # and we set values of aux\n",
    "\n",
    "    for i in num:\n",
    "        aux[dict_alpha[i]] += 1\n",
    "\n",
    "    sorted_letters = []\n",
    "\n",
    "    for i in range(len(aux)):\n",
    "        sorted_letters.extend([chr(dict_alpha_rev[i])]*aux[i])\n",
    "\n",
    "    return sorted_letters\n",
    "    "
   ]
  },
  {
   "cell_type": "markdown",
   "metadata": {},
   "source": [
    "#### Testing (Comparing sorted() function with our CountingSort function)"
   ]
  },
  {
   "cell_type": "code",
   "execution_count": 9,
   "metadata": {},
   "outputs": [],
   "source": [
    "# Now we can finally test our CountingSort with the dictionary containing all the letters of the alphabet not in order."
   ]
  },
  {
   "cell_type": "code",
   "execution_count": 10,
   "metadata": {},
   "outputs": [
    {
     "name": "stdout",
     "output_type": "stream",
     "text": [
      "['s', 'i', 'M', 'h', 'J', 'L', 'r', 'u', 'P', 'K', 'b', 'O', 'H', 'D', 'v', 'y', 'X', 'c', 'W', 'B', 'e', 'x', 'n', 'F', 'Q', 'l', 'o', 'z', 'm', 'k', 'C', 'U', 'j', 't', 'd', 'V', 'q', 'a', 'Y', 'I', 'T', 'R', 'N', 'A', 'p', 'G', 'g', 'E', 'Z', 'S', 'w', 'f']\n"
     ]
    }
   ],
   "source": [
    "print(string_letters)"
   ]
  },
  {
   "cell_type": "code",
   "execution_count": 12,
   "metadata": {},
   "outputs": [
    {
     "name": "stdout",
     "output_type": "stream",
     "text": [
      "['A', 'a', 'B', 'b', 'C', 'c', 'D', 'd', 'E', 'e', 'F', 'f', 'G', 'g', 'H', 'h', 'I', 'i', 'J', 'j', 'K', 'k', 'L', 'l', 'M', 'm', 'N', 'n', 'O', 'o', 'P', 'p', 'Q', 'q', 'R', 'r', 'S', 's', 'T', 't', 'U', 'u', 'V', 'v', 'W', 'w', 'X', 'x', 'Y', 'y', 'Z', 'z']\n"
     ]
    }
   ],
   "source": [
    "# Applying the function\n",
    "print(CountingSort(string_letters))"
   ]
  },
  {
   "cell_type": "code",
   "execution_count": null,
   "metadata": {},
   "outputs": [],
   "source": []
  },
  {
   "cell_type": "code",
   "execution_count": null,
   "metadata": {},
   "outputs": [],
   "source": []
  },
  {
   "cell_type": "code",
   "execution_count": null,
   "metadata": {},
   "outputs": [],
   "source": []
  },
  {
   "cell_type": "markdown",
   "metadata": {},
   "source": [
    "## Part 3"
   ]
  },
  {
   "cell_type": "markdown",
   "metadata": {},
   "source": [
    "### Build an algorithm, based on your implementation of Counting Sort, that receives in input a list of length m, that contains words with maximum length equal to n, and returns the list ordered according to alphabetical order. Discuss time complexity (theoretically and empirically)."
   ]
  },
  {
   "cell_type": "code",
   "execution_count": null,
   "metadata": {},
   "outputs": [],
   "source": []
  },
  {
   "cell_type": "code",
   "execution_count": null,
   "metadata": {},
   "outputs": [],
   "source": []
  },
  {
   "cell_type": "code",
   "execution_count": null,
   "metadata": {},
   "outputs": [],
   "source": []
  },
  {
   "cell_type": "code",
   "execution_count": null,
   "metadata": {},
   "outputs": [],
   "source": []
  }
 ],
 "metadata": {
  "kernelspec": {
   "display_name": "Python 3",
   "language": "python",
   "name": "python3"
  },
  "language_info": {
   "codemirror_mode": {
    "name": "ipython",
    "version": 3
   },
   "file_extension": ".py",
   "mimetype": "text/x-python",
   "name": "python",
   "nbconvert_exporter": "python",
   "pygments_lexer": "ipython3",
   "version": "3.7.4"
  }
 },
 "nbformat": 4,
 "nbformat_minor": 2
}
