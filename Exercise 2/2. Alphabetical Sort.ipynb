{
 "cells": [
  {
   "cell_type": "markdown",
   "metadata": {},
   "source": [
    "## Part 1"
   ]
  },
  {
   "cell_type": "markdown",
   "metadata": {},
   "source": [
    "### Build your own implementation of Counting Sort"
   ]
  },
  {
   "cell_type": "code",
   "execution_count": 1,
   "metadata": {},
   "outputs": [],
   "source": [
    "import numpy as np\n",
    "import re"
   ]
  },
  {
   "cell_type": "code",
   "execution_count": 2,
   "metadata": {},
   "outputs": [],
   "source": [
    "def CountingSort(A):\n",
    "    size = max(A)  \n",
    "    aux = np.zeros(size+1, dtype=int) # we define an auxiliary array \n",
    "    for i in A:\n",
    "        aux[i] += 1    # with this for we can see the occurrency of each element to the respective index\n",
    "    sort = []   # defining the output\n",
    "    for j in range(size+1):\n",
    "        sort.extend([j]*aux[j])\n",
    "    return sort"
   ]
  },
  {
   "cell_type": "markdown",
   "metadata": {},
   "source": [
    "#### Testing (Comparing sorted() function with our CountingSort function)"
   ]
  },
  {
   "cell_type": "code",
   "execution_count": 6,
   "metadata": {},
   "outputs": [
    {
     "name": "stdout",
     "output_type": "stream",
     "text": [
      "[1, 2, 2, 3, 4, 5, 6, 8, 9]\n",
      "[1, 2, 2, 3, 4, 5, 6, 8, 9]\n"
     ]
    }
   ],
   "source": [
    "test = [3, 1, 4, 2, 6, 8, 9, 2, 5]\n",
    "\n",
    "print(sorted(test))\n",
    "print(CountingSort(test))"
   ]
  },
  {
   "cell_type": "code",
   "execution_count": 7,
   "metadata": {},
   "outputs": [
    {
     "data": {
      "text/plain": [
       "True"
      ]
     },
     "execution_count": 7,
     "metadata": {},
     "output_type": "execute_result"
    }
   ],
   "source": [
    "# just to be sure\n",
    "\n",
    "sorted(test)==CountingSort(test)"
   ]
  },
  {
   "cell_type": "code",
   "execution_count": null,
   "metadata": {},
   "outputs": [],
   "source": []
  },
  {
   "cell_type": "code",
   "execution_count": null,
   "metadata": {},
   "outputs": [],
   "source": []
  },
  {
   "cell_type": "code",
   "execution_count": null,
   "metadata": {},
   "outputs": [],
   "source": []
  },
  {
   "cell_type": "markdown",
   "metadata": {},
   "source": [
    "## Part 2"
   ]
  },
  {
   "cell_type": "markdown",
   "metadata": {},
   "source": [
    "### Build an algorithm, based on your implementation of Counting Sort, that receives in input a list with all the letters of the alphabet (not in alphabetical order), and returns the list ordered according to alphabetical order. Discuss time complexity (theoretically and empirically)."
   ]
  },
  {
   "cell_type": "code",
   "execution_count": 117,
   "metadata": {},
   "outputs": [],
   "source": [
    "import string\n",
    "import random\n",
    "import numpy as np"
   ]
  },
  {
   "cell_type": "markdown",
   "metadata": {},
   "source": [
    "#### First of all we create a list containing all the letters of the alphabet not in alphabetical order.\n"
   ]
  },
  {
   "cell_type": "code",
   "execution_count": 118,
   "metadata": {},
   "outputs": [],
   "source": [
    "alphabet_l = string.ascii_lowercase\n",
    "alphabet_u = string.ascii_uppercase"
   ]
  },
  {
   "cell_type": "code",
   "execution_count": 119,
   "metadata": {},
   "outputs": [],
   "source": [
    "string_letters = random.sample(alphabet_l + alphabet_u, k=52) # we use \"sample\" function to get elements without replacement "
   ]
  },
  {
   "cell_type": "markdown",
   "metadata": {},
   "source": [
    "#### Now, given this list, we implement our CountingSort function to get the ordered list of letters."
   ]
  },
  {
   "cell_type": "code",
   "execution_count": 120,
   "metadata": {},
   "outputs": [],
   "source": [
    "def CountingSort(letters):\n",
    "    # first thing: for each letter we get the Unicode values\n",
    "\n",
    "    unicode_l = []\n",
    "    unicode_u = []\n",
    "\n",
    "    for i in alphabet_l:\n",
    "        unicode_l.append(ord(i))\n",
    "    for j in alphabet_u:\n",
    "        unicode_u.append(ord(j))\n",
    "\n",
    "    # now we create a map to get in order the Unicode values associated to upper and lower case (example: AaBbCc...).\n",
    "    # in this way we are initializing the alphabetical order.\n",
    "\n",
    "    unicode_map = []\n",
    "\n",
    "    for p in zip(unicode_u, unicode_l):\n",
    "        for code in p:\n",
    "            unicode_map.append(code)\n",
    "\n",
    "    # creating a dictionary to have an index for each unicode\n",
    "\n",
    "    dict_alpha = {code:i for i, code in enumerate(unicode_map)}\n",
    "\n",
    "    # creating the reverse of the dictionary\n",
    "\n",
    "    dict_alpha_rev = {ind:code for code, ind in dict_alpha.items()}\n",
    "\n",
    "    # we define an auxiliary array\n",
    "\n",
    "    aux = np.zeros(len(dict_alpha), dtype=int)\n",
    "\n",
    "    # taking the input, we have to convert it into Unicode values\n",
    "\n",
    "    num = []\n",
    "    for i in letters:\n",
    "        num.append(ord(i))\n",
    "\n",
    "    # Now, as we made for the CountingSort function for the numbers,\n",
    "    # we check the occurrences of each character (from the input)\n",
    "    # and we set values of aux\n",
    "\n",
    "    for i in num:\n",
    "        aux[dict_alpha[i]] += 1\n",
    "\n",
    "    sorted_letters = []\n",
    "\n",
    "    for i in range(len(aux)):\n",
    "        sorted_letters.extend([chr(dict_alpha_rev[i])]*aux[i])\n",
    "\n",
    "    return sorted_letters\n",
    "    "
   ]
  },
  {
   "cell_type": "markdown",
   "metadata": {},
   "source": [
    "#### Testing (Comparing sorted() function with our CountingSort function)"
   ]
  },
  {
   "cell_type": "code",
   "execution_count": 122,
   "metadata": {},
   "outputs": [],
   "source": [
    "# Now we can finally test our CountingSort with the dictionary containing all the letters of the alphabet not in order."
   ]
  },
  {
   "cell_type": "code",
   "execution_count": 125,
   "metadata": {},
   "outputs": [
    {
     "data": {
      "text/plain": [
       "['j',\n",
       " 'a',\n",
       " 'D',\n",
       " 'k',\n",
       " 'i',\n",
       " 'U',\n",
       " 'r',\n",
       " 'o',\n",
       " 'v',\n",
       " 'F',\n",
       " 'R',\n",
       " 'A',\n",
       " 'n',\n",
       " 'y',\n",
       " 'h',\n",
       " 't',\n",
       " 'I',\n",
       " 'L',\n",
       " 'Y',\n",
       " 'W',\n",
       " 'w',\n",
       " 'G',\n",
       " 'T',\n",
       " 'X',\n",
       " 'x',\n",
       " 'B',\n",
       " 'Q',\n",
       " 'c',\n",
       " 'q',\n",
       " 'V',\n",
       " 'Z',\n",
       " 'e',\n",
       " 'b',\n",
       " 'u',\n",
       " 'K',\n",
       " 'l',\n",
       " 'O',\n",
       " 'S',\n",
       " 'E',\n",
       " 'N',\n",
       " 's',\n",
       " 'd',\n",
       " 'g',\n",
       " 'C',\n",
       " 'M',\n",
       " 'J',\n",
       " 'z',\n",
       " 'P',\n",
       " 'p',\n",
       " 'H',\n",
       " 'm',\n",
       " 'f']"
      ]
     },
     "execution_count": 125,
     "metadata": {},
     "output_type": "execute_result"
    }
   ],
   "source": [
    "string_letters"
   ]
  },
  {
   "cell_type": "code",
   "execution_count": 128,
   "metadata": {},
   "outputs": [
    {
     "data": {
      "text/plain": [
       "['A',\n",
       " 'a',\n",
       " 'B',\n",
       " 'b',\n",
       " 'C',\n",
       " 'c',\n",
       " 'D',\n",
       " 'd',\n",
       " 'E',\n",
       " 'e',\n",
       " 'F',\n",
       " 'f',\n",
       " 'G',\n",
       " 'g',\n",
       " 'H',\n",
       " 'h',\n",
       " 'I',\n",
       " 'i',\n",
       " 'J',\n",
       " 'j',\n",
       " 'K',\n",
       " 'k',\n",
       " 'L',\n",
       " 'l',\n",
       " 'M',\n",
       " 'm',\n",
       " 'N',\n",
       " 'n',\n",
       " 'O',\n",
       " 'o',\n",
       " 'P',\n",
       " 'p',\n",
       " 'Q',\n",
       " 'q',\n",
       " 'R',\n",
       " 'r',\n",
       " 'S',\n",
       " 's',\n",
       " 'T',\n",
       " 't',\n",
       " 'U',\n",
       " 'u',\n",
       " 'V',\n",
       " 'v',\n",
       " 'W',\n",
       " 'w',\n",
       " 'X',\n",
       " 'x',\n",
       " 'Y',\n",
       " 'y',\n",
       " 'Z',\n",
       " 'z']"
      ]
     },
     "execution_count": 128,
     "metadata": {},
     "output_type": "execute_result"
    }
   ],
   "source": [
    "# Applying the function\n",
    "CountingSort(string_letters)"
   ]
  },
  {
   "cell_type": "code",
   "execution_count": null,
   "metadata": {},
   "outputs": [],
   "source": []
  },
  {
   "cell_type": "code",
   "execution_count": null,
   "metadata": {},
   "outputs": [],
   "source": []
  },
  {
   "cell_type": "markdown",
   "metadata": {},
   "source": [
    "## Part 3"
   ]
  },
  {
   "cell_type": "markdown",
   "metadata": {},
   "source": [
    "### Build an algorithm, based on your implementation of Counting Sort, that receives in input a list of length m, that contains words with maximum length equal to n, and returns the list ordered according to alphabetical order. Discuss time complexity (theoretically and empirically)."
   ]
  },
  {
   "cell_type": "code",
   "execution_count": null,
   "metadata": {},
   "outputs": [],
   "source": []
  },
  {
   "cell_type": "code",
   "execution_count": null,
   "metadata": {},
   "outputs": [],
   "source": []
  },
  {
   "cell_type": "code",
   "execution_count": null,
   "metadata": {},
   "outputs": [],
   "source": []
  },
  {
   "cell_type": "code",
   "execution_count": null,
   "metadata": {},
   "outputs": [],
   "source": []
  }
 ],
 "metadata": {
  "kernelspec": {
   "display_name": "Python 3",
   "language": "python",
   "name": "python3"
  },
  "language_info": {
   "codemirror_mode": {
    "name": "ipython",
    "version": 3
   },
   "file_extension": ".py",
   "mimetype": "text/x-python",
   "name": "python",
   "nbconvert_exporter": "python",
   "pygments_lexer": "ipython3",
   "version": "3.7.4"
  }
 },
 "nbformat": 4,
 "nbformat_minor": 2
}
